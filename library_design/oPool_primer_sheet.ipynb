{
 "cells": [
  {
   "cell_type": "markdown",
   "id": "76f45d49",
   "metadata": {},
   "source": [
    "# Create oPool sheet for mutagenesis primers"
   ]
  },
  {
   "cell_type": "markdown",
   "id": "3bc77592",
   "metadata": {},
   "source": [
    "This notebooks takes .csv files creates by 2021Jan_create_primers.py and makes a spreadsheet that can be uploaded to IDTDNA skite for ordering oPools"
   ]
  },
  {
   "cell_type": "code",
   "execution_count": 19,
   "id": "eea39003",
   "metadata": {},
   "outputs": [],
   "source": [
    "import pandas as pd\n",
    "import numpy as np\n",
    "from Bio import SeqIO\n",
    "from Bio.SeqUtils import MeltingTemp as mt\n",
    "import Bio\n",
    "from Bio.Seq import Seq\n",
    "import statistics\n",
    "from plotnine import *"
   ]
  },
  {
   "cell_type": "code",
   "execution_count": 14,
   "id": "228855a4",
   "metadata": {},
   "outputs": [],
   "source": [
    "NNG_primers  ='H5_Primers_NNG.csv'\n",
    "NNC_primers  ='H5_Primers_NNC.csv'"
   ]
  },
  {
   "cell_type": "markdown",
   "id": "3c5311c7",
   "metadata": {},
   "source": [
    "## Check primer Tm distribution"
   ]
  },
  {
   "cell_type": "code",
   "execution_count": 20,
   "id": "bb4846d7",
   "metadata": {},
   "outputs": [
    {
     "data": {
      "text/html": [
       "<div>\n",
       "<style scoped>\n",
       "    .dataframe tbody tr th:only-of-type {\n",
       "        vertical-align: middle;\n",
       "    }\n",
       "\n",
       "    .dataframe tbody tr th {\n",
       "        vertical-align: top;\n",
       "    }\n",
       "\n",
       "    .dataframe thead th {\n",
       "        text-align: right;\n",
       "    }\n",
       "</style>\n",
       "<table border=\"1\" class=\"dataframe\">\n",
       "  <thead>\n",
       "    <tr style=\"text-align: right;\">\n",
       "      <th></th>\n",
       "      <th>Pool name</th>\n",
       "      <th>Primer name</th>\n",
       "      <th>Ambiguous codon</th>\n",
       "      <th>Sequence</th>\n",
       "      <th>Tm</th>\n",
       "      <th>length</th>\n",
       "    </tr>\n",
       "  </thead>\n",
       "  <tbody>\n",
       "    <tr>\n",
       "      <th>0</th>\n",
       "      <td>H5_ForPool</td>\n",
       "      <td>H5-for-mut1</td>\n",
       "      <td>NNG</td>\n",
       "      <td>cgcgtgccaccNNGGAAAATATCGTG</td>\n",
       "      <td>61.19</td>\n",
       "      <td>26</td>\n",
       "    </tr>\n",
       "    <tr>\n",
       "      <th>1</th>\n",
       "      <td>H5_ForPool</td>\n",
       "      <td>H5-for-mut2</td>\n",
       "      <td>NNG</td>\n",
       "      <td>cgtgccaccATGNNGAATATCGTGCTTT</td>\n",
       "      <td>60.12</td>\n",
       "      <td>28</td>\n",
       "    </tr>\n",
       "    <tr>\n",
       "      <th>2</th>\n",
       "      <td>H5_ForPool</td>\n",
       "      <td>H5-for-mut3</td>\n",
       "      <td>NNG</td>\n",
       "      <td>gccaccATGGAANNGATCGTGCTTTTGC</td>\n",
       "      <td>61.24</td>\n",
       "      <td>28</td>\n",
       "    </tr>\n",
       "    <tr>\n",
       "      <th>3</th>\n",
       "      <td>H5_ForPool</td>\n",
       "      <td>H5-for-mut4</td>\n",
       "      <td>NNG</td>\n",
       "      <td>caccATGGAAAATNNGGTGCTTTTGCTCG</td>\n",
       "      <td>59.81</td>\n",
       "      <td>29</td>\n",
       "    </tr>\n",
       "    <tr>\n",
       "      <th>4</th>\n",
       "      <td>H5_ForPool</td>\n",
       "      <td>H5-for-mut5</td>\n",
       "      <td>NNG</td>\n",
       "      <td>ccATGGAAAATATCNNGCTTTTGCTCGCCATT</td>\n",
       "      <td>60.78</td>\n",
       "      <td>32</td>\n",
       "    </tr>\n",
       "    <tr>\n",
       "      <th>...</th>\n",
       "      <td>...</td>\n",
       "      <td>...</td>\n",
       "      <td>...</td>\n",
       "      <td>...</td>\n",
       "      <td>...</td>\n",
       "      <td>...</td>\n",
       "    </tr>\n",
       "    <tr>\n",
       "      <th>1129</th>\n",
       "      <td>H5_RevPool</td>\n",
       "      <td>H5-rev-mut563</td>\n",
       "      <td>NNG</td>\n",
       "      <td>attaGATACAAATGCGCNNTTGCAAGGAACCGTT</td>\n",
       "      <td>61.41</td>\n",
       "      <td>34</td>\n",
       "    </tr>\n",
       "    <tr>\n",
       "      <th>1130</th>\n",
       "      <td>H5_RevPool</td>\n",
       "      <td>H5-rev-mut564</td>\n",
       "      <td>NNG</td>\n",
       "      <td>gcctattaGATACAAATCNNACATTGCAAGGAACCGT</td>\n",
       "      <td>60.86</td>\n",
       "      <td>37</td>\n",
       "    </tr>\n",
       "    <tr>\n",
       "      <th>1131</th>\n",
       "      <td>H5_RevPool</td>\n",
       "      <td>H5-rev-mut565</td>\n",
       "      <td>NNG</td>\n",
       "      <td>gcctattaGATACACNNGCGACATTGCAAGG</td>\n",
       "      <td>60.08</td>\n",
       "      <td>31</td>\n",
       "    </tr>\n",
       "    <tr>\n",
       "      <th>1132</th>\n",
       "      <td>H5_RevPool</td>\n",
       "      <td>H5-rev-mut566</td>\n",
       "      <td>NNG</td>\n",
       "      <td>cgcgcctattaGATCNNAATGCGACATTGC</td>\n",
       "      <td>61.00</td>\n",
       "      <td>30</td>\n",
       "    </tr>\n",
       "    <tr>\n",
       "      <th>1133</th>\n",
       "      <td>H5_RevPool</td>\n",
       "      <td>H5-rev-mut567</td>\n",
       "      <td>NNG</td>\n",
       "      <td>gcgcgcctattaCNNACAAATGCGACA</td>\n",
       "      <td>60.88</td>\n",
       "      <td>27</td>\n",
       "    </tr>\n",
       "  </tbody>\n",
       "</table>\n",
       "<p>1134 rows × 6 columns</p>\n",
       "</div>"
      ],
      "text/plain": [
       "       Pool name    Primer name Ambiguous codon  \\\n",
       "0     H5_ForPool    H5-for-mut1             NNG   \n",
       "1     H5_ForPool    H5-for-mut2             NNG   \n",
       "2     H5_ForPool    H5-for-mut3             NNG   \n",
       "3     H5_ForPool    H5-for-mut4             NNG   \n",
       "4     H5_ForPool    H5-for-mut5             NNG   \n",
       "...          ...            ...             ...   \n",
       "1129  H5_RevPool  H5-rev-mut563             NNG   \n",
       "1130  H5_RevPool  H5-rev-mut564             NNG   \n",
       "1131  H5_RevPool  H5-rev-mut565             NNG   \n",
       "1132  H5_RevPool  H5-rev-mut566             NNG   \n",
       "1133  H5_RevPool  H5-rev-mut567             NNG   \n",
       "\n",
       "                                   Sequence     Tm  length  \n",
       "0                cgcgtgccaccNNGGAAAATATCGTG  61.19      26  \n",
       "1              cgtgccaccATGNNGAATATCGTGCTTT  60.12      28  \n",
       "2              gccaccATGGAANNGATCGTGCTTTTGC  61.24      28  \n",
       "3             caccATGGAAAATNNGGTGCTTTTGCTCG  59.81      29  \n",
       "4          ccATGGAAAATATCNNGCTTTTGCTCGCCATT  60.78      32  \n",
       "...                                     ...    ...     ...  \n",
       "1129     attaGATACAAATGCGCNNTTGCAAGGAACCGTT  61.41      34  \n",
       "1130  gcctattaGATACAAATCNNACATTGCAAGGAACCGT  60.86      37  \n",
       "1131        gcctattaGATACACNNGCGACATTGCAAGG  60.08      31  \n",
       "1132         cgcgcctattaGATCNNAATGCGACATTGC  61.00      30  \n",
       "1133            gcgcgcctattaCNNACAAATGCGACA  60.88      27  \n",
       "\n",
       "[1134 rows x 6 columns]"
      ]
     },
     "execution_count": 20,
     "metadata": {},
     "output_type": "execute_result"
    }
   ],
   "source": [
    "names = ['Pool name','Sequence']\n",
    "NNG_primers_df = pd.read_csv(NNG_primers)\n",
    "NNG_primers_df['Tm'] = NNG_primers_df.apply(lambda x: '%0.2f' % mt.Tm_NN(x.Sequence, strict=False), axis=1)\n",
    "NNG_primers_df['Tm'] = NNG_primers_df['Tm'].astype('float')\n",
    "NNG_primers_df['length'] = NNG_primers_df.apply(lambda x: len(x.Sequence), axis=1)\n",
    "NNG_primers_df"
   ]
  },
  {
   "cell_type": "code",
   "execution_count": 22,
   "id": "fd47ef91",
   "metadata": {},
   "outputs": [
    {
     "name": "stderr",
     "output_type": "stream",
     "text": [
      "/fh/fast/bloom_j/software/miniconda3/envs/BloomLab/lib/python3.8/site-packages/plotnine/layer.py:401: PlotnineWarning: geom_histogram : Removed 2 rows containing missing values.\n"
     ]
    },
    {
     "data": {
      "image/png": "[encoded data removed]",
      "text/plain": [
       "<Figure size 640x480 with 1 Axes>"
      ]
     },
     "metadata": {},
     "output_type": "display_data"
    },
    {
     "data": {
      "text/plain": [
       "<bound method ggplot.draw of <ggplot: (8755593051871)>>"
      ]
     },
     "execution_count": 22,
     "metadata": {},
     "output_type": "execute_result"
    }
   ],
   "source": [
    "p = (ggplot(NNG_primers_df) + \n",
    "     aes('Tm') + \n",
    "     geom_histogram(color='white', bins=30)+\n",
    "     xlim(55,72)\n",
    "    )\n",
    "\n",
    "p.draw"
   ]
  },
  {
   "cell_type": "code",
   "execution_count": 23,
   "id": "b6701f85",
   "metadata": {},
   "outputs": [
    {
     "data": {
      "text/html": [
       "<div>\n",
       "<style scoped>\n",
       "    .dataframe tbody tr th:only-of-type {\n",
       "        vertical-align: middle;\n",
       "    }\n",
       "\n",
       "    .dataframe tbody tr th {\n",
       "        vertical-align: top;\n",
       "    }\n",
       "\n",
       "    .dataframe thead th {\n",
       "        text-align: right;\n",
       "    }\n",
       "</style>\n",
       "<table border=\"1\" class=\"dataframe\">\n",
       "  <thead>\n",
       "    <tr style=\"text-align: right;\">\n",
       "      <th></th>\n",
       "      <th>Pool name</th>\n",
       "      <th>Primer name</th>\n",
       "      <th>Ambiguous codon</th>\n",
       "      <th>Sequence</th>\n",
       "      <th>Tm</th>\n",
       "      <th>length</th>\n",
       "    </tr>\n",
       "  </thead>\n",
       "  <tbody>\n",
       "    <tr>\n",
       "      <th>0</th>\n",
       "      <td>H5_ForPool</td>\n",
       "      <td>H5-for-mut1</td>\n",
       "      <td>NNC</td>\n",
       "      <td>cgcgtgccaccNNCGAAAATATCGTG</td>\n",
       "      <td>61.19</td>\n",
       "      <td>26</td>\n",
       "    </tr>\n",
       "    <tr>\n",
       "      <th>1</th>\n",
       "      <td>H5_ForPool</td>\n",
       "      <td>H5-for-mut2</td>\n",
       "      <td>NNC</td>\n",
       "      <td>cgtgccaccATGNNCAATATCGTGCTTT</td>\n",
       "      <td>60.81</td>\n",
       "      <td>28</td>\n",
       "    </tr>\n",
       "    <tr>\n",
       "      <th>2</th>\n",
       "      <td>H5_ForPool</td>\n",
       "      <td>H5-for-mut3</td>\n",
       "      <td>NNC</td>\n",
       "      <td>gccaccATGGAANNCATCGTGCTTTTG</td>\n",
       "      <td>59.57</td>\n",
       "      <td>27</td>\n",
       "    </tr>\n",
       "    <tr>\n",
       "      <th>3</th>\n",
       "      <td>H5_ForPool</td>\n",
       "      <td>H5-for-mut4</td>\n",
       "      <td>NNC</td>\n",
       "      <td>caccATGGAAAATNNCGTGCTTTTGCTCG</td>\n",
       "      <td>59.87</td>\n",
       "      <td>29</td>\n",
       "    </tr>\n",
       "    <tr>\n",
       "      <th>4</th>\n",
       "      <td>H5_ForPool</td>\n",
       "      <td>H5-for-mut5</td>\n",
       "      <td>NNC</td>\n",
       "      <td>accATGGAAAATATCNNCCTTTTGCTCGCCATT</td>\n",
       "      <td>61.05</td>\n",
       "      <td>33</td>\n",
       "    </tr>\n",
       "    <tr>\n",
       "      <th>...</th>\n",
       "      <td>...</td>\n",
       "      <td>...</td>\n",
       "      <td>...</td>\n",
       "      <td>...</td>\n",
       "      <td>...</td>\n",
       "      <td>...</td>\n",
       "    </tr>\n",
       "    <tr>\n",
       "      <th>1129</th>\n",
       "      <td>H5_RevPool</td>\n",
       "      <td>H5-rev-mut563</td>\n",
       "      <td>NNC</td>\n",
       "      <td>tattaGATACAAATGCGGNNTTGCAAGGAACCGTTG</td>\n",
       "      <td>61.37</td>\n",
       "      <td>36</td>\n",
       "    </tr>\n",
       "    <tr>\n",
       "      <th>1130</th>\n",
       "      <td>H5_RevPool</td>\n",
       "      <td>H5-rev-mut564</td>\n",
       "      <td>NNC</td>\n",
       "      <td>gcctattaGATACAAATGNNACATTGCAAGGAACCGT</td>\n",
       "      <td>60.86</td>\n",
       "      <td>37</td>\n",
       "    </tr>\n",
       "    <tr>\n",
       "      <th>1131</th>\n",
       "      <td>H5_RevPool</td>\n",
       "      <td>H5-rev-mut565</td>\n",
       "      <td>NNC</td>\n",
       "      <td>cgcctattaGATACAGNNGCGACATTGCAAGG</td>\n",
       "      <td>61.29</td>\n",
       "      <td>32</td>\n",
       "    </tr>\n",
       "    <tr>\n",
       "      <th>1132</th>\n",
       "      <td>H5_RevPool</td>\n",
       "      <td>H5-rev-mut566</td>\n",
       "      <td>NNC</td>\n",
       "      <td>cgcgcctattaGATGNNAATGCGACATTGC</td>\n",
       "      <td>61.00</td>\n",
       "      <td>30</td>\n",
       "    </tr>\n",
       "    <tr>\n",
       "      <th>1133</th>\n",
       "      <td>H5_RevPool</td>\n",
       "      <td>H5-rev-mut567</td>\n",
       "      <td>NNC</td>\n",
       "      <td>gcgcgcctattaGNNACAAATGCGACA</td>\n",
       "      <td>60.45</td>\n",
       "      <td>27</td>\n",
       "    </tr>\n",
       "  </tbody>\n",
       "</table>\n",
       "<p>1134 rows × 6 columns</p>\n",
       "</div>"
      ],
      "text/plain": [
       "       Pool name    Primer name Ambiguous codon  \\\n",
       "0     H5_ForPool    H5-for-mut1             NNC   \n",
       "1     H5_ForPool    H5-for-mut2             NNC   \n",
       "2     H5_ForPool    H5-for-mut3             NNC   \n",
       "3     H5_ForPool    H5-for-mut4             NNC   \n",
       "4     H5_ForPool    H5-for-mut5             NNC   \n",
       "...          ...            ...             ...   \n",
       "1129  H5_RevPool  H5-rev-mut563             NNC   \n",
       "1130  H5_RevPool  H5-rev-mut564             NNC   \n",
       "1131  H5_RevPool  H5-rev-mut565             NNC   \n",
       "1132  H5_RevPool  H5-rev-mut566             NNC   \n",
       "1133  H5_RevPool  H5-rev-mut567             NNC   \n",
       "\n",
       "                                   Sequence     Tm  length  \n",
       "0                cgcgtgccaccNNCGAAAATATCGTG  61.19      26  \n",
       "1              cgtgccaccATGNNCAATATCGTGCTTT  60.81      28  \n",
       "2               gccaccATGGAANNCATCGTGCTTTTG  59.57      27  \n",
       "3             caccATGGAAAATNNCGTGCTTTTGCTCG  59.87      29  \n",
       "4         accATGGAAAATATCNNCCTTTTGCTCGCCATT  61.05      33  \n",
       "...                                     ...    ...     ...  \n",
       "1129   tattaGATACAAATGCGGNNTTGCAAGGAACCGTTG  61.37      36  \n",
       "1130  gcctattaGATACAAATGNNACATTGCAAGGAACCGT  60.86      37  \n",
       "1131       cgcctattaGATACAGNNGCGACATTGCAAGG  61.29      32  \n",
       "1132         cgcgcctattaGATGNNAATGCGACATTGC  61.00      30  \n",
       "1133            gcgcgcctattaGNNACAAATGCGACA  60.45      27  \n",
       "\n",
       "[1134 rows x 6 columns]"
      ]
     },
     "execution_count": 23,
     "metadata": {},
     "output_type": "execute_result"
    }
   ],
   "source": [
    "names = ['Pool name','Sequence']\n",
    "NNC_primers_df = pd.read_csv(NNC_primers)\n",
    "NNC_primers_df['Tm'] = NNC_primers_df.apply(lambda x: '%0.2f' % mt.Tm_NN(x.Sequence, strict=False), axis=1)\n",
    "NNC_primers_df['Tm'] = NNC_primers_df['Tm'].astype('float')\n",
    "NNC_primers_df['length'] = NNC_primers_df.apply(lambda x: len(x.Sequence), axis=1)\n",
    "NNC_primers_df"
   ]
  },
  {
   "cell_type": "code",
   "execution_count": 24,
   "id": "253fed38",
   "metadata": {},
   "outputs": [
    {
     "name": "stderr",
     "output_type": "stream",
     "text": [
      "/fh/fast/bloom_j/software/miniconda3/envs/BloomLab/lib/python3.8/site-packages/plotnine/layer.py:401: PlotnineWarning: geom_histogram : Removed 2 rows containing missing values.\n"
     ]
    },
    {
     "data": {
      "image/png": "[encoded data removed]",
      "text/plain": [
       "<Figure size 640x480 with 1 Axes>"
      ]
     },
     "metadata": {},
     "output_type": "display_data"
    },
    {
     "data": {
      "text/plain": [
       "<bound method ggplot.draw of <ggplot: (8755584552912)>>"
      ]
     },
     "execution_count": 24,
     "metadata": {},
     "output_type": "execute_result"
    }
   ],
   "source": [
    "p = (ggplot(NNG_primers_df) + \n",
    "     aes('Tm') + \n",
    "     geom_histogram(color='white', bins=30)+\n",
    "     xlim(55,72)\n",
    "    )\n",
    "\n",
    "p.draw"
   ]
  },
  {
   "cell_type": "code",
   "execution_count": 25,
   "id": "b68fafe4",
   "metadata": {},
   "outputs": [],
   "source": [
    "oPool_df = pd.concat([NNG_primers_df, NNC_primers_df], ignore_index=True)"
   ]
  },
  {
   "cell_type": "code",
   "execution_count": 26,
   "id": "99ccfd7a",
   "metadata": {},
   "outputs": [],
   "source": [
    "oPool_df = oPool_df[['Pool name','Sequence']]\n",
    "oPool_df.to_csv('oPool_df.csv', index=False)"
   ]
  },
  {
   "cell_type": "code",
   "execution_count": null,
   "id": "aae648e7",
   "metadata": {},
   "outputs": [],
   "source": []
  }
 ],
 "metadata": {
  "kernelspec": {
   "display_name": "Python 3 (ipykernel)",
   "language": "python",
   "name": "python3"
  },
  "language_info": {
   "codemirror_mode": {
    "name": "ipython",
    "version": 3
   },
   "file_extension": ".py",
   "mimetype": "text/x-python",
   "name": "python",
   "nbconvert_exporter": "python",
   "pygments_lexer": "ipython3",
   "version": "3.8.12"
  }
 },
 "nbformat": 4,
 "nbformat_minor": 5
}
