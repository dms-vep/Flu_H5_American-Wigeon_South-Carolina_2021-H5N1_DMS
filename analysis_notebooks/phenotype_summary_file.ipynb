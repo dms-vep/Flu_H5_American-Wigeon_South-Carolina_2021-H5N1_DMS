{
 "cells": [
  {
   "cell_type": "markdown",
   "id": "1c155445-9e6b-42b8-93ad-b364a140b315",
   "metadata": {
    "editable": true,
    "slideshow": {
     "slide_type": ""
    },
    "tags": []
   },
   "source": [
    "## notebook that makes summary file that includes all phenotypes"
   ]
  },
  {
   "cell_type": "code",
   "execution_count": null,
   "id": "951ebb16-8e5b-4c47-8042-436b1151cba2",
   "metadata": {
    "editable": true,
    "slideshow": {
     "slide_type": ""
    },
    "tags": [
     "parameters"
    ]
   },
   "outputs": [],
   "source": [
    "# papermill params \n",
    "summary_file = None\n",
    "diffs = None\n",
    "summary_with_diffs = None"
   ]
  },
  {
   "cell_type": "code",
   "execution_count": 1,
   "id": "44917653-60ae-44a7-bbe5-c5af87061616",
   "metadata": {
    "editable": true,
    "slideshow": {
     "slide_type": ""
    },
    "tags": []
   },
   "outputs": [],
   "source": [
    "import pandas as pd"
   ]
  },
  {
   "cell_type": "code",
   "execution_count": null,
   "id": "ce4de965-86d5-43ca-8c1a-319fe9eb86f0",
   "metadata": {
    "editable": true,
    "slideshow": {
     "slide_type": ""
    },
    "tags": []
   },
   "outputs": [],
   "source": [
    "# summary_file = '../results/summaries/summary.csv'\n",
    "# diffs = '../results/func_effect_diffs/SA26_vs_SA23_entry_diffs.csv'\n",
    "# summary_with_diffs =  '../results/summaries/phenotype_summary.csv'"
   ]
  },
  {
   "cell_type": "code",
   "execution_count": 3,
   "id": "b13f6d18-3032-4d5a-ac5f-0b92135744e0",
   "metadata": {
    "editable": true,
    "slideshow": {
     "slide_type": ""
    },
    "tags": []
   },
   "outputs": [],
   "source": [
    "summary_file = pd.read_csv(summary_file)\n",
    "diffs = pd.read_csv(diffs)"
   ]
  },
  {
   "cell_type": "code",
   "execution_count": 4,
   "id": "71ef2219-2889-474a-9204-f82171342bea",
   "metadata": {
    "editable": true,
    "slideshow": {
     "slide_type": ""
    },
    "tags": []
   },
   "outputs": [],
   "source": [
    "summary_file_with_diffs = summary_file.merge(diffs[['wildtype', 'site', 'mutant', 'difference']],how='left', on=['wildtype', 'site', 'mutant'])"
   ]
  },
  {
   "cell_type": "code",
   "execution_count": 5,
   "id": "1bf9b86c-99d2-4472-a6fc-decd8335e246",
   "metadata": {
    "editable": true,
    "slideshow": {
     "slide_type": ""
    },
    "tags": []
   },
   "outputs": [],
   "source": [
    "def calculate_difference(row):\n",
    "    if row['Entry in 26 linked sialic acid cells'] >= 0:\n",
    "        return row['difference']\n",
    "    else:\n",
    "        return 0\n",
    "        \n",
    "summary_file_with_diffs['difference'] = summary_file_with_diffs.apply(lambda row: calculate_difference(row), axis=1)"
   ]
  },
  {
   "cell_type": "code",
   "execution_count": 9,
   "id": "a663a8a5-3061-4b58-8638-c668c7163ce1",
   "metadata": {},
   "outputs": [],
   "source": [
    "summary_file_with_diffs = summary_file_with_diffs.rename(columns={\"difference\": \"26 vs 23 26 linked sialic acid cells entry difference\",}, errors=\"raise\")"
   ]
  },
  {
   "cell_type": "code",
   "execution_count": 10,
   "id": "8e4515a5-753c-4f97-b4b8-d287d1a97996",
   "metadata": {},
   "outputs": [
    {
     "data": {
      "text/html": [
       "<div>\n",
       "<style scoped>\n",
       "    .dataframe tbody tr th:only-of-type {\n",
       "        vertical-align: middle;\n",
       "    }\n",
       "\n",
       "    .dataframe tbody tr th {\n",
       "        vertical-align: top;\n",
       "    }\n",
       "\n",
       "    .dataframe thead th {\n",
       "        text-align: right;\n",
       "    }\n",
       "</style>\n",
       "<table border=\"1\" class=\"dataframe\">\n",
       "  <thead>\n",
       "    <tr style=\"text-align: right;\">\n",
       "      <th></th>\n",
       "      <th>site</th>\n",
       "      <th>sequential_site</th>\n",
       "      <th>reference_H1_site</th>\n",
       "      <th>region</th>\n",
       "      <th>wildtype</th>\n",
       "      <th>mutant</th>\n",
       "      <th>mouse sera escape</th>\n",
       "      <th>ferret sera escape</th>\n",
       "      <th>pig sera escape</th>\n",
       "      <th>Entry in 293T cells</th>\n",
       "      <th>Entry in 23 linked sialic acid cells</th>\n",
       "      <th>Entry in 26 linked sialic acid cells</th>\n",
       "      <th>pH stability</th>\n",
       "      <th>26 vs 23 26 linked sialic acid cells entry difference</th>\n",
       "    </tr>\n",
       "  </thead>\n",
       "  <tbody>\n",
       "    <tr>\n",
       "      <th>0</th>\n",
       "      <td>-1</td>\n",
       "      <td>6</td>\n",
       "      <td>-11</td>\n",
       "      <td>HA1</td>\n",
       "      <td>L</td>\n",
       "      <td>C</td>\n",
       "      <td>-0.027750</td>\n",
       "      <td>0.03033</td>\n",
       "      <td>-0.09663</td>\n",
       "      <td>0.3049</td>\n",
       "      <td>0.7927</td>\n",
       "      <td>0.32650</td>\n",
       "      <td>-0.01173</td>\n",
       "      <td>-0.4661</td>\n",
       "    </tr>\n",
       "    <tr>\n",
       "      <th>1</th>\n",
       "      <td>-1</td>\n",
       "      <td>6</td>\n",
       "      <td>-11</td>\n",
       "      <td>HA1</td>\n",
       "      <td>L</td>\n",
       "      <td>F</td>\n",
       "      <td>0.030530</td>\n",
       "      <td>0.06930</td>\n",
       "      <td>-0.04705</td>\n",
       "      <td>-0.2852</td>\n",
       "      <td>0.1734</td>\n",
       "      <td>-0.36840</td>\n",
       "      <td>NaN</td>\n",
       "      <td>0.0000</td>\n",
       "    </tr>\n",
       "    <tr>\n",
       "      <th>2</th>\n",
       "      <td>-1</td>\n",
       "      <td>6</td>\n",
       "      <td>-11</td>\n",
       "      <td>HA1</td>\n",
       "      <td>L</td>\n",
       "      <td>K</td>\n",
       "      <td>-0.006736</td>\n",
       "      <td>NaN</td>\n",
       "      <td>NaN</td>\n",
       "      <td>-0.1316</td>\n",
       "      <td>-0.4918</td>\n",
       "      <td>-0.06235</td>\n",
       "      <td>NaN</td>\n",
       "      <td>0.0000</td>\n",
       "    </tr>\n",
       "    <tr>\n",
       "      <th>3</th>\n",
       "      <td>-1</td>\n",
       "      <td>6</td>\n",
       "      <td>-11</td>\n",
       "      <td>HA1</td>\n",
       "      <td>L</td>\n",
       "      <td>Q</td>\n",
       "      <td>-0.043740</td>\n",
       "      <td>NaN</td>\n",
       "      <td>0.04340</td>\n",
       "      <td>0.2179</td>\n",
       "      <td>0.1879</td>\n",
       "      <td>-0.23300</td>\n",
       "      <td>NaN</td>\n",
       "      <td>0.0000</td>\n",
       "    </tr>\n",
       "    <tr>\n",
       "      <th>4</th>\n",
       "      <td>-1</td>\n",
       "      <td>6</td>\n",
       "      <td>-11</td>\n",
       "      <td>HA1</td>\n",
       "      <td>L</td>\n",
       "      <td>S</td>\n",
       "      <td>0.029930</td>\n",
       "      <td>-0.19230</td>\n",
       "      <td>0.08813</td>\n",
       "      <td>-1.7710</td>\n",
       "      <td>-1.4560</td>\n",
       "      <td>-0.70740</td>\n",
       "      <td>-0.02909</td>\n",
       "      <td>0.0000</td>\n",
       "    </tr>\n",
       "  </tbody>\n",
       "</table>\n",
       "</div>"
      ],
      "text/plain": [
       "  site  sequential_site reference_H1_site region wildtype mutant  \\\n",
       "0   -1                6               -11    HA1        L      C   \n",
       "1   -1                6               -11    HA1        L      F   \n",
       "2   -1                6               -11    HA1        L      K   \n",
       "3   -1                6               -11    HA1        L      Q   \n",
       "4   -1                6               -11    HA1        L      S   \n",
       "\n",
       "   mouse sera escape  ferret sera escape  pig sera escape  \\\n",
       "0          -0.027750             0.03033         -0.09663   \n",
       "1           0.030530             0.06930         -0.04705   \n",
       "2          -0.006736                 NaN              NaN   \n",
       "3          -0.043740                 NaN          0.04340   \n",
       "4           0.029930            -0.19230          0.08813   \n",
       "\n",
       "   Entry in 293T cells  Entry in 23 linked sialic acid cells  \\\n",
       "0               0.3049                                0.7927   \n",
       "1              -0.2852                                0.1734   \n",
       "2              -0.1316                               -0.4918   \n",
       "3               0.2179                                0.1879   \n",
       "4              -1.7710                               -1.4560   \n",
       "\n",
       "   Entry in 26 linked sialic acid cells  pH stability  \\\n",
       "0                               0.32650      -0.01173   \n",
       "1                              -0.36840           NaN   \n",
       "2                              -0.06235           NaN   \n",
       "3                              -0.23300           NaN   \n",
       "4                              -0.70740      -0.02909   \n",
       "\n",
       "   26 vs 23 26 linked sialic acid cells entry difference  \n",
       "0                                            -0.4661      \n",
       "1                                             0.0000      \n",
       "2                                             0.0000      \n",
       "3                                             0.0000      \n",
       "4                                             0.0000      "
      ]
     },
     "execution_count": 10,
     "metadata": {},
     "output_type": "execute_result"
    }
   ],
   "source": [
    "summary_file_with_diffs = summary_file_with_diffs[['site',\n",
    "                                                   'sequential_site',\n",
    "                                                   'reference_H1_site',\n",
    "                                                   'region',\n",
    "                                                   'wildtype',\n",
    "                                                   'mutant',\n",
    "                                                   'mouse sera escape',\n",
    "                                                   'ferret sera escape',\n",
    "                                                   'pig sera escape',\n",
    "                                                   'Entry in 293T cells',\n",
    "                                                   'Entry in 23 linked sialic acid cells',\n",
    "                                                   'Entry in 26 linked sialic acid cells',\n",
    "                                                   'pH stability',\n",
    "                                                   '26 vs 23 26 linked sialic acid cells entry difference']]"
   ]
  },
  {
   "cell_type": "code",
   "execution_count": 16,
   "id": "e760ebfb-dcab-4dcf-b0e2-bbc9c1a58d04",
   "metadata": {
    "editable": true,
    "slideshow": {
     "slide_type": ""
    },
    "tags": []
   },
   "outputs": [],
   "source": [
    "summary_file_with_diffs = summary_file_with_diffs.sort_values('sequential_site')\n",
    "summary_file_with_diffs.to_csv(summary_with_diffs, index=False)"
   ]
  }
 ],
 "metadata": {
  "kernelspec": {
   "display_name": "Python 3 (ipykernel)",
   "language": "python",
   "name": "python3"
  },
  "language_info": {
   "codemirror_mode": {
    "name": "ipython",
    "version": 3
   },
   "file_extension": ".py",
   "mimetype": "text/x-python",
   "name": "python",
   "nbconvert_exporter": "python",
   "pygments_lexer": "ipython3",
   "version": "3.11.6"
  }
 },
 "nbformat": 4,
 "nbformat_minor": 5
}
