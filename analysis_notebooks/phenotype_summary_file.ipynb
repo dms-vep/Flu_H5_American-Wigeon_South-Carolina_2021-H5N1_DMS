{
 "cells": [
  {
   "cell_type": "markdown",
   "id": "1c155445-9e6b-42b8-93ad-b364a140b315",
   "metadata": {
    "editable": true,
    "slideshow": {
     "slide_type": ""
    },
    "tags": []
   },
   "source": [
    "## notebook that makes summary file that includes all phenotypes"
   ]
  },
  {
   "cell_type": "code",
   "execution_count": null,
   "id": "951ebb16-8e5b-4c47-8042-436b1151cba2",
   "metadata": {
    "editable": true,
    "slideshow": {
     "slide_type": ""
    },
    "tags": [
     "parameters"
    ]
   },
   "outputs": [],
   "source": [
    "# papermill params \n",
    "summary_file = None\n",
    "diffs = None\n",
    "summary_with_diffs = None"
   ]
  },
  {
   "cell_type": "code",
   "execution_count": 1,
   "id": "44917653-60ae-44a7-bbe5-c5af87061616",
   "metadata": {
    "editable": true,
    "slideshow": {
     "slide_type": ""
    },
    "tags": []
   },
   "outputs": [],
   "source": [
    "import pandas as pd"
   ]
  },
  {
   "cell_type": "code",
   "execution_count": 7,
   "id": "ce4de965-86d5-43ca-8c1a-319fe9eb86f0",
   "metadata": {
    "editable": true,
    "slideshow": {
     "slide_type": ""
    },
    "tags": []
   },
   "outputs": [],
   "source": [
    "# summary_file = '../results/summaries/summary.csv'\n",
    "# diffs = '../results/func_effect_diffs/SA26_vs_SA23_entry_diffs.csv'\n",
    "# summary_with_diffs =  '../results/summaries/summary_with_diffs.csv'"
   ]
  },
  {
   "cell_type": "code",
   "execution_count": 8,
   "id": "b13f6d18-3032-4d5a-ac5f-0b92135744e0",
   "metadata": {
    "editable": true,
    "slideshow": {
     "slide_type": ""
    },
    "tags": []
   },
   "outputs": [],
   "source": [
    "summary_file = pd.read_csv(summary_file)\n",
    "diffs = pd.read_csv(diffs)"
   ]
  },
  {
   "cell_type": "code",
   "execution_count": 9,
   "id": "71ef2219-2889-474a-9204-f82171342bea",
   "metadata": {
    "editable": true,
    "slideshow": {
     "slide_type": ""
    },
    "tags": []
   },
   "outputs": [],
   "source": [
    "summary_file_with_diffs = summary_file.merge(diffs[['wildtype', 'site', 'mutant', 'difference']],how='left', on=['wildtype', 'site', 'mutant'])"
   ]
  },
  {
   "cell_type": "code",
   "execution_count": 10,
   "id": "1bf9b86c-99d2-4472-a6fc-decd8335e246",
   "metadata": {
    "editable": true,
    "slideshow": {
     "slide_type": ""
    },
    "tags": []
   },
   "outputs": [],
   "source": [
    "def calculate_difference(row):\n",
    "    if row['Entry in 26 linked sialic acid cells'] >= 0:\n",
    "        return row['difference']\n",
    "    else:\n",
    "        return 0\n",
    "        \n",
    "summary_file_with_diffs['difference'] = summary_file_with_diffs.apply(lambda row: calculate_difference(row), axis=1)"
   ]
  },
  {
   "cell_type": "code",
   "execution_count": 16,
   "id": "e760ebfb-dcab-4dcf-b0e2-bbc9c1a58d04",
   "metadata": {
    "editable": true,
    "slideshow": {
     "slide_type": ""
    },
    "tags": []
   },
   "outputs": [],
   "source": [
    "summary_file_with_diffs = summary_file_with_diffs.sort_values('sequential_site')\n",
    "summary_file_with_diffs.to_csv(summary_with_diffs, index=False)"
   ]
  }
 ],
 "metadata": {
  "kernelspec": {
   "display_name": "Python 3 (ipykernel)",
   "language": "python",
   "name": "python3"
  },
  "language_info": {
   "codemirror_mode": {
    "name": "ipython",
    "version": 3
   },
   "file_extension": ".py",
   "mimetype": "text/x-python",
   "name": "python",
   "nbconvert_exporter": "python",
   "pygments_lexer": "ipython3",
   "version": "3.11.6"
  }
 },
 "nbformat": 4,
 "nbformat_minor": 5
}
