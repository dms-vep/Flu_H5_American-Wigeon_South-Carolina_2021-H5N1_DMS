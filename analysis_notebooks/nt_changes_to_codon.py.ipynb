{
 "cells": [
  {
   "cell_type": "markdown",
   "id": "fe3eae0d-9ebe-4eed-bb7a-183fe0076d34",
   "metadata": {},
   "source": [
    "# Make mutation annotations that include nucleotide changes to codon required for each mutation"
   ]
  },
  {
   "cell_type": "code",
   "execution_count": null,
   "id": "3ae165c9-4175-4bd7-b5c3-d05d9795a3da",
   "metadata": {},
   "outputs": [],
   "source": [
    "import os\n",
    "\n",
    "import Bio.Seq\n",
    "import Bio.SeqIO\n",
    "\n",
    "import pandas as pd"
   ]
  },
  {
   "cell_type": "markdown",
   "id": "7a9ce90a-ce5b-4faa-b38b-019c13dd3f34",
   "metadata": {},
   "source": [
    "For every codon, get the number of nucleotide changes needed to get to any other amino acid:"
   ]
  },
  {
   "cell_type": "code",
   "execution_count": null,
   "id": "5ee67dbd-e941-4c2d-a492-f44434eb4296",
   "metadata": {},
   "outputs": [],
   "source": [
    "codons = [f\"{nt1}{nt2}{nt3}\" for nt1 in \"ACGT\" for nt2 in \"ACGT\" for nt3 in \"ACGT\"]\n",
    "\n",
    "distances = {}\n",
    "for codon1 in codons:\n",
    "    distances[(codon1, \"-\")] = 3\n",
    "    for codon2 in codons:\n",
    "        aa2 = str(Bio.Seq.Seq(codon2).translate())\n",
    "        nt_diffs = sum(x != y for (x, y) in zip(codon1, codon2))\n",
    "        if (codon1, aa2) in distances:\n",
    "            distances[(codon1, aa2)] = min(distances[(codon1, aa2)], nt_diffs)\n",
    "        else:\n",
    "            distances[(codon1, aa2)] = nt_diffs\n",
    "\n",
    "distances = pd.DataFrame(\n",
    "    [(codon1, aa2, nt_diffs) for ((codon1, aa2), nt_diffs) in distances.items()],\n",
    "    columns=[\"wildtype_codon\", \"mutant\", \"nt changes to codon\"]\n",
    ")\n",
    "\n",
    "distances"
   ]
  },
  {
   "cell_type": "markdown",
   "id": "e8372248-ab4a-411d-b997-630e2fbcd21c",
   "metadata": {},
   "source": [
    "Now read the wildtype gene sequence, the site numbering map, and the PacBio amplicon.\n",
    "Make sure the wildtype gene sequence encodes the same protein as the PacBio amplicon:"
   ]
  },
  {
   "cell_type": "code",
   "execution_count": null,
   "id": "b78b30a8-ce05-4157-a4a1-0082aeea5f8e",
   "metadata": {},
   "outputs": [],
   "source": [
    "natural_geneseq = Bio.SeqIO.read(snakemake.input.natural_geneseq, \"fasta\")\n",
    "if len(natural_geneseq) % 3:\n",
    "    raise ValueError(f\"Invalid {len(natural_geneseq)=}\")\n",
    "natural_geneseq_str = str(natural_geneseq.seq).upper()\n",
    "\n",
    "pacbio_amplicon = Bio.SeqIO.read(snakemake.input.pacbio_amplicon, \"genbank\")\n",
    "pacbio_gene_feature = [feat for feat in pacbio_amplicon.features if feat.type == \"gene\"]\n",
    "assert len(pacbio_gene_feature) == 1\n",
    "pacbio_gene_feature = pacbio_gene_feature[0]\n",
    "pacbio_gene = pacbio_gene_feature.extract(pacbio_amplicon)\n",
    "\n",
    "# check natural_geneseq and pacbio_gene encode same protein\n",
    "natural_prot = str(natural_geneseq.translate().seq)\n",
    "if natural_prot.endswith(\"*\"):\n",
    "    natural_prot = natural_prot[: -1]\n",
    "pacbio_prot = str(pacbio_gene.translate().seq)\n",
    "if pacbio_prot.endswith(\"*\"):\n",
    "    pacbio_prot = pacbio_prot[: -1]\n",
    "if natural_prot != pacbio_prot:\n",
    "    raise ValueError(f\"difference between {pacbio_prot=} and {natural_prot=}\")\n",
    "\n",
    "site_numbering_map = pd.read_csv(snakemake.input.site_numbering_map)[\n",
    "    [\"sequential_site\", \"reference_site\"]\n",
    "]\n",
    "\n",
    "if len(site_numbering_map) * 3 != len(natural_geneseq):\n",
    "    raise ValueError(f\"{len(site_numbering_map)=} and {len(natural_geneseq)=}\")\n",
    "assert list(range(1, len(site_numbering_map) + 1)) == site_numbering_map[\"sequential_site\"].tolist()\n",
    "\n",
    "mutation_annotations = (\n",
    "    site_numbering_map\n",
    "    .assign(\n",
    "        wildtype_codon=lambda x: x[\"sequential_site\"].map(\n",
    "            lambda r: natural_geneseq_str[3 * (r - 1): 3 * r]\n",
    "        ),\n",
    "    )\n",
    "    .merge(distances, on=\"wildtype_codon\", how=\"left\")\n",
    "    .sort_values([\"sequential_site\", \"mutant\"])\n",
    "    .rename(columns={\"reference_site\": \"site\"})\n",
    "    .drop(columns=[\"sequential_site\", \"wildtype_codon\"])\n",
    ")\n",
    "\n",
    "assert len(mutation_annotations) == len(site_numbering_map) * 22\n",
    "\n",
    "print(f\"Writing the mutation annotations to {snakemake.output.annotations}\")\n",
    "os.makedirs(os.path.dirname(snakemake.output.annotations), exist_ok=True)\n",
    "mutation_annotations.to_csv(snakemake.output.annotations, index=False)\n",
    "\n",
    "mutation_annotations"
   ]
  }
 ],
 "metadata": {
  "kernelspec": {
   "display_name": "Python 3 (ipykernel)",
   "language": "python",
   "name": "python3"
  },
  "language_info": {
   "codemirror_mode": {
    "name": "ipython",
    "version": 3
   },
   "file_extension": ".py",
   "mimetype": "text/x-python",
   "name": "python",
   "nbconvert_exporter": "python",
   "pygments_lexer": "ipython3",
   "version": "3.11.7"
  }
 },
 "nbformat": 4,
 "nbformat_minor": 5
}
