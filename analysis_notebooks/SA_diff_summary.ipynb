{
 "cells": [
  {
   "cell_type": "markdown",
   "id": "6c10d29b-01de-44ed-810f-cc1387941455",
   "metadata": {},
   "source": [
    "# Make summary file for entry differences"
   ]
  },
  {
   "cell_type": "code",
   "execution_count": 1,
   "id": "7fbb70ae-abfe-488c-8349-5173cb0a4366",
   "metadata": {
    "editable": true,
    "slideshow": {
     "slide_type": ""
    },
    "tags": [
     "parameters"
    ]
   },
   "outputs": [],
   "source": [
    "# this cell is tagged as parameters for `papermill` parameterization\n",
    "diff_df = None  # differences df\n",
    "summary_df = None  # differences summary"
   ]
  },
  {
   "cell_type": "code",
   "execution_count": 2,
   "id": "61c35ddf-96c2-482d-b1da-677b235133ca",
   "metadata": {},
   "outputs": [],
   "source": [
    "import pandas as pd"
   ]
  },
  {
   "cell_type": "code",
   "execution_count": 3,
   "id": "01befd20-56c4-4db3-bbd7-ebace9b29127",
   "metadata": {},
   "outputs": [],
   "source": [
    "# for running interactively\n",
    "# diff_df = '../results/func_effect_diffs/SA26_vs_SA23_entry_diffs.csv'"
   ]
  },
  {
   "cell_type": "code",
   "execution_count": null,
   "id": "a7b000df-a5a5-4b0a-846e-33ad6c760613",
   "metadata": {},
   "outputs": [],
   "source": [
    "diff_df = pd.read_csv(diff_df)"
   ]
  },
  {
   "cell_type": "code",
   "execution_count": 4,
   "id": "7019bf0f-de09-463c-bdd4-5ace22a3bdc4",
   "metadata": {},
   "outputs": [],
   "source": [
    "## filter by QC: times_seen >= 3, SA26 entry effect >= 0\n",
    "summary_df = diff_df.loc[diff_df['times_seen'] >= 3]\n",
    "summary_df = summary_df.loc[summary_df['SA26 entry effect'] >= 0]"
   ]
  },
  {
   "cell_type": "code",
   "execution_count": 5,
   "id": "8587a446-4755-4512-bde9-7748bcf9f8f4",
   "metadata": {},
   "outputs": [],
   "source": [
    "summary_df.to_csv(summary_df)"
   ]
  }
 ],
 "metadata": {
  "kernelspec": {
   "display_name": "Python 3 (ipykernel)",
   "language": "python",
   "name": "python3"
  },
  "language_info": {
   "codemirror_mode": {
    "name": "ipython",
    "version": 3
   },
   "file_extension": ".py",
   "mimetype": "text/x-python",
   "name": "python",
   "nbconvert_exporter": "python",
   "pygments_lexer": "ipython3",
   "version": "3.11.6"
  }
 },
 "nbformat": 4,
 "nbformat_minor": 5
}
