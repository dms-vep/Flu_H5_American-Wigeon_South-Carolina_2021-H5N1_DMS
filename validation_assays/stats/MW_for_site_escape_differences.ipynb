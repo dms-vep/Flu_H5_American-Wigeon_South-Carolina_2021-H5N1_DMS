{
 "cells": [
  {
   "cell_type": "markdown",
   "id": "364e6f8c-4266-4f2e-aa34-4520286776c3",
   "metadata": {},
   "source": [
    "## Calculate significance for site-level escape differences between the non-stabilized nanoparticle and other antigen groups "
   ]
  },
  {
   "cell_type": "code",
   "execution_count": 1,
   "id": "22b50063-d3fd-47c4-824e-279fa03e528b",
   "metadata": {},
   "outputs": [],
   "source": [
    "import pandas as pd\n",
    "from scipy.stats import mannwhitneyu"
   ]
  },
  {
   "cell_type": "code",
   "execution_count": 2,
   "id": "fbe5e221-bdd8-491a-9763-1a54c9dd7054",
   "metadata": {},
   "outputs": [],
   "source": [
    "#get summary data\n",
    "df = pd.read_csv(\"../results/summaries/Stabilized_HA_sera_escape.csv\")\n",
    "\n",
    "# filter for poor entry\n",
    "df = df[df[\"entry in 293T cells\"] >= -3].copy()"
   ]
  },
  {
   "cell_type": "code",
   "execution_count": 3,
   "id": "5eae7666-bb6c-4079-99fb-0e9a99f920a8",
   "metadata": {},
   "outputs": [],
   "source": [
    "# groups\n",
    "# non-stabilized nanoparticle\n",
    "rc_mean_col = \"mean H5-RC_I_1\"\n",
    "\n",
    "# other groups\n",
    "non_rc_mean_cols = [\n",
    "    \"mean H5-FMLMI-RC_I_1\",\n",
    "    \"mean H5-membrane-anchored\",\n",
    "    \"mean H5-FMLMI-membrane-anchored\",\n",
    "    \"mean H5-foldon\",\n",
    "    \"mean H5-FMLMI-foldon\"\n",
    "]\n",
    "\n",
    "# replicate columns for Mann-Whitney test\n",
    "rc_group_cols = [\n",
    "    \"H5-RC_I_1-mouse-2\",\n",
    "    \"H5-RC_I_1-mouse-3\",\n",
    "    \"H5-RC_I_1-mouse-4\"\n",
    "]\n",
    "\n",
    "non_rc_group_cols = [\n",
    "    \"H5-FMLMI-RC_I_1-mouse-1\",\n",
    "    \"H5-FMLMI-RC_I_1-mouse-2\",\n",
    "    \"H5-FMLMI-RC_I_1-mouse-3\",\n",
    "    \"H5-membrane-anchored-mouse-1\",\n",
    "    \"H5-membrane-anchored-mouse-2\",\n",
    "    \"H5-membrane-anchored-mouse-3\",\n",
    "    \"H5-FMLMI-membrane-anchored-mouse-1\",\n",
    "    \"H5-FMLMI-membrane-anchored-mouse-2\",\n",
    "    \"H5-FMLMI-membrane-anchored-mouse-3\",\n",
    "    \"H5-foldon-mouse-1\",\n",
    "    \"H5-foldon-mouse-2\",\n",
    "    \"H5-FMLMI-foldon-mouse-1\",\n",
    "    \"H5-FMLMI-foldon-mouse-2\"\n",
    "]\n"
   ]
  },
  {
   "cell_type": "code",
   "execution_count": 4,
   "id": "4b9c1ad9-dc6c-4a63-b521-c18615ea3ff5",
   "metadata": {},
   "outputs": [],
   "source": [
    "# find top 5 sites with greatest summed site escape differences to non-stabilized nanoparticle group\n",
    "\n",
    "# set negative values to 0 before summing\n",
    "df[rc_mean_col] = pd.to_numeric(df[rc_mean_col], errors=\"coerce\").fillna(0).clip(lower=0)\n",
    "for col in non_rc_mean_cols:\n",
    "    df[col] = pd.to_numeric(df[col], errors=\"coerce\").fillna(0).clip(lower=0)\n",
    "\n",
    "# group by site and sum across mutations within each group\n",
    "site_sums = df.groupby(\"site\")[[rc_mean_col] + non_rc_mean_cols].sum()\n",
    "\n",
    "# calculate difference relative to non-stabilized nanoparticle group\n",
    "for col in non_rc_mean_cols:\n",
    "    site_sums[f\"diff_{col}\"] = site_sums[rc_mean_col] - site_sums[col]\n",
    "\n",
    "# get difference mean for other groups\n",
    "site_sums[\"summed_diff\"] = site_sums[[f\"diff_{c}\" for c in non_rc_mean_cols]].mean(axis=1)\n",
    "\n",
    "# Select top 15 sites\n",
    "top_sites = site_sums.nlargest(5, \"summed_diff\").index.tolist()"
   ]
  },
  {
   "cell_type": "code",
   "execution_count": 5,
   "id": "514a6d4c-ae67-4cb8-8d2f-9943655e4947",
   "metadata": {},
   "outputs": [
    {
     "data": {
      "text/plain": [
       "['90', '57', '125', '78', '276']"
      ]
     },
     "execution_count": 5,
     "metadata": {},
     "output_type": "execute_result"
    }
   ],
   "source": [
    "top_sites"
   ]
  },
  {
   "cell_type": "code",
   "execution_count": 6,
   "id": "0973b8a2-1e05-433e-b137-95140ed7c58c",
   "metadata": {},
   "outputs": [
    {
     "name": "stdout",
     "output_type": "stream",
     "text": [
      "  site   rc_mean  summed_diff  n_RC  n_nonRC  mannwhitney_U   p_value\n",
      "0   90  3.169020     2.076179    48      205         6976.5  0.000007\n",
      "1   57  2.080427     1.437135    33      135         2797.5  0.022930\n",
      "2  125  2.283600     1.420894    33      147         3485.5  0.000089\n",
      "3   78  1.724220     1.009511    27      121         2098.5  0.021015\n",
      "4  276  2.732920     0.999712    45      198         5353.0  0.034954\n"
     ]
    }
   ],
   "source": [
    "# perform Mann-Whitney test for each top site\n",
    "results = []\n",
    "for site in top_sites:\n",
    "    site_df = df[df[\"site\"] == site]\n",
    "\n",
    "    rc_values = site_df[rc_group_cols].values.flatten()\n",
    "    non_rc_values = site_df[non_rc_group_cols].values.flatten()\n",
    "\n",
    "    # Drop missing values\n",
    "    rc_values = rc_values[~pd.isna(rc_values)]\n",
    "    non_rc_values = non_rc_values[~pd.isna(non_rc_values)]\n",
    "\n",
    "    # Perform Mann-Whitney test\n",
    "    stat, pval = mannwhitneyu(rc_values, non_rc_values, alternative=\"two-sided\")\n",
    "\n",
    "    results.append({\n",
    "        \"site\": site,\n",
    "        \"rc_mean\": site_sums.loc[site, rc_mean_col],\n",
    "        \"summed_diff\": site_sums.loc[site, \"summed_diff\"],\n",
    "        \"n_RC\": len(rc_values),\n",
    "        \"n_nonRC\": len(non_rc_values),\n",
    "        \"mannwhitney_U\": stat,\n",
    "        \"p_value\": pval\n",
    "    })\n",
    "\n",
    "results_df = pd.DataFrame(results)\n",
    "results_df.to_csv(\"stabilized_HA_sera_escape_mannwhitney.csv\", index=False)\n",
    "\n",
    "print(results_df)"
   ]
  }
 ],
 "metadata": {
  "kernelspec": {
   "display_name": "Python 3 (ipykernel)",
   "language": "python",
   "name": "python3"
  },
  "language_info": {
   "codemirror_mode": {
    "name": "ipython",
    "version": 3
   },
   "file_extension": ".py",
   "mimetype": "text/x-python",
   "name": "python",
   "nbconvert_exporter": "python",
   "pygments_lexer": "ipython3",
   "version": "3.12.8"
  }
 },
 "nbformat": 4,
 "nbformat_minor": 5
}
