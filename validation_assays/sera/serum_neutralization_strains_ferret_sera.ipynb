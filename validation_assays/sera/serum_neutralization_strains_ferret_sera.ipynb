{
 "cells": [
  {
   "cell_type": "markdown",
   "metadata": {},
   "source": [
    "# Analysis of H5 ferret sera strain neuts"
   ]
  },
  {
   "cell_type": "markdown",
   "metadata": {},
   "source": [
    "### Set up Analysis"
   ]
  },
  {
   "cell_type": "code",
   "execution_count": 1,
   "metadata": {
    "tags": []
   },
   "outputs": [],
   "source": [
    "import os\n",
    "import warnings\n",
    "import matplotlib.pyplot as plt\n",
    "\n",
    "import numpy as np\n",
    "import pandas as pd\n",
    "from plotnine import *\n",
    "import seaborn\n",
    "\n",
    "import altair as alt\n",
    "\n",
    "import neutcurve\n",
    "from neutcurve.colorschemes import CBMARKERS, CBPALETTE\n",
    "\n",
    "import yaml"
   ]
  },
  {
   "cell_type": "code",
   "execution_count": 2,
   "metadata": {
    "tags": []
   },
   "outputs": [],
   "source": [
    "warnings.simplefilter('ignore')"
   ]
  },
  {
   "cell_type": "markdown",
   "metadata": {},
   "source": [
    "Read config file."
   ]
  },
  {
   "cell_type": "code",
   "execution_count": 3,
   "metadata": {
    "tags": []
   },
   "outputs": [],
   "source": [
    "with open('config.yaml') as f:\n",
    "    config = yaml.safe_load(f)"
   ]
  },
  {
   "cell_type": "markdown",
   "metadata": {},
   "source": [
    "Set seaborn theme:"
   ]
  },
  {
   "cell_type": "code",
   "execution_count": 4,
   "metadata": {
    "tags": []
   },
   "outputs": [],
   "source": [
    "theme_set(theme_seaborn(style='white', context='talk', font_scale=1))\n",
    "plt.style.use('seaborn-white')"
   ]
  },
  {
   "cell_type": "code",
   "execution_count": 5,
   "metadata": {
    "tags": []
   },
   "outputs": [],
   "source": [
    "resultsdir=config['resultsdir']\n",
    "os.makedirs(resultsdir, exist_ok=True)"
   ]
  },
  {
   "cell_type": "markdown",
   "metadata": {},
   "source": [
    "## Read in data"
   ]
  },
  {
   "cell_type": "code",
   "execution_count": 6,
   "metadata": {
    "tags": []
   },
   "outputs": [],
   "source": [
    "frac_infect = pd.read_csv(config['serum_neuts_ferret_pHW_strain_validation'], index_col=0)"
   ]
  },
  {
   "cell_type": "markdown",
   "metadata": {},
   "source": [
    "## Fit Hill curve to data using [`neutcurve`](https://jbloomlab.github.io/neutcurve/)"
   ]
  },
  {
   "cell_type": "code",
   "execution_count": 7,
   "metadata": {
    "tags": []
   },
   "outputs": [],
   "source": [
    "fits = neutcurve.CurveFits(frac_infect,  fixtop= True)"
   ]
  },
  {
   "cell_type": "code",
   "execution_count": 8,
   "metadata": {
    "tags": []
   },
   "outputs": [],
   "source": [
    "fitparams = (\n",
    "        fits.fitParams(ics=[50,90])\n",
    "        # get columns of interest\n",
    "        [['serum', 'ic50', 'ic90', 'virus']]\n",
    "        .assign(NT50=lambda x: 1/x['ic50'], NT90=lambda x: 1/x['ic90'])        \n",
    "        )"
   ]
  },
  {
   "cell_type": "code",
   "execution_count": 9,
   "metadata": {
    "tags": []
   },
   "outputs": [
    {
     "data": {
      "text/html": [
       "<div>\n",
       "<style scoped>\n",
       "    .dataframe tbody tr th:only-of-type {\n",
       "        vertical-align: middle;\n",
       "    }\n",
       "\n",
       "    .dataframe tbody tr th {\n",
       "        vertical-align: top;\n",
       "    }\n",
       "\n",
       "    .dataframe thead th {\n",
       "        text-align: right;\n",
       "    }\n",
       "</style>\n",
       "<table border=\"1\" class=\"dataframe\">\n",
       "  <thead>\n",
       "    <tr style=\"text-align: right;\">\n",
       "      <th></th>\n",
       "      <th>serum</th>\n",
       "      <th>ic50</th>\n",
       "      <th>ic90</th>\n",
       "      <th>virus</th>\n",
       "      <th>NT50</th>\n",
       "      <th>NT90</th>\n",
       "    </tr>\n",
       "  </thead>\n",
       "  <tbody>\n",
       "    <tr>\n",
       "      <th>0</th>\n",
       "      <td>ferret-7</td>\n",
       "      <td>0.000125</td>\n",
       "      <td>0.000328</td>\n",
       "      <td>A/American Wigeon/South Carolina/USDA-000345-0...</td>\n",
       "      <td>8009.684808</td>\n",
       "      <td>3049.798100</td>\n",
       "    </tr>\n",
       "    <tr>\n",
       "      <th>1</th>\n",
       "      <td>ferret-7</td>\n",
       "      <td>0.000770</td>\n",
       "      <td>0.004023</td>\n",
       "      <td>A/domesticcat/Oklahoma/24009118002/2024</td>\n",
       "      <td>1298.911622</td>\n",
       "      <td>248.558338</td>\n",
       "    </tr>\n",
       "    <tr>\n",
       "      <th>2</th>\n",
       "      <td>ferret-7</td>\n",
       "      <td>0.007937</td>\n",
       "      <td>0.016897</td>\n",
       "      <td>A/dairycattle/Texas/24009028003/2024</td>\n",
       "      <td>126.000061</td>\n",
       "      <td>59.180633</td>\n",
       "    </tr>\n",
       "    <tr>\n",
       "      <th>3</th>\n",
       "      <td>ferret-10</td>\n",
       "      <td>0.000156</td>\n",
       "      <td>0.000175</td>\n",
       "      <td>A/American Wigeon/South Carolina/USDA-000345-0...</td>\n",
       "      <td>6426.958505</td>\n",
       "      <td>5702.625162</td>\n",
       "    </tr>\n",
       "    <tr>\n",
       "      <th>4</th>\n",
       "      <td>ferret-10</td>\n",
       "      <td>0.000421</td>\n",
       "      <td>0.001799</td>\n",
       "      <td>A/domesticcat/Oklahoma/24009118002/2024</td>\n",
       "      <td>2372.645092</td>\n",
       "      <td>555.781362</td>\n",
       "    </tr>\n",
       "    <tr>\n",
       "      <th>5</th>\n",
       "      <td>ferret-10</td>\n",
       "      <td>0.001616</td>\n",
       "      <td>0.003526</td>\n",
       "      <td>A/dairycattle/Texas/24009028003/2024</td>\n",
       "      <td>618.793120</td>\n",
       "      <td>283.596784</td>\n",
       "    </tr>\n",
       "    <tr>\n",
       "      <th>6</th>\n",
       "      <td>ferret-19</td>\n",
       "      <td>0.000166</td>\n",
       "      <td>0.000190</td>\n",
       "      <td>A/American Wigeon/South Carolina/USDA-000345-0...</td>\n",
       "      <td>6007.578279</td>\n",
       "      <td>5274.925017</td>\n",
       "    </tr>\n",
       "    <tr>\n",
       "      <th>7</th>\n",
       "      <td>ferret-19</td>\n",
       "      <td>0.001593</td>\n",
       "      <td>0.005917</td>\n",
       "      <td>A/domesticcat/Oklahoma/24009118002/2024</td>\n",
       "      <td>627.661981</td>\n",
       "      <td>168.999520</td>\n",
       "    </tr>\n",
       "    <tr>\n",
       "      <th>8</th>\n",
       "      <td>ferret-19</td>\n",
       "      <td>0.004867</td>\n",
       "      <td>0.007665</td>\n",
       "      <td>A/dairycattle/Texas/24009028003/2024</td>\n",
       "      <td>205.472239</td>\n",
       "      <td>130.454649</td>\n",
       "    </tr>\n",
       "  </tbody>\n",
       "</table>\n",
       "</div>"
      ],
      "text/plain": [
       "       serum      ic50      ic90  \\\n",
       "0   ferret-7  0.000125  0.000328   \n",
       "1   ferret-7  0.000770  0.004023   \n",
       "2   ferret-7  0.007937  0.016897   \n",
       "3  ferret-10  0.000156  0.000175   \n",
       "4  ferret-10  0.000421  0.001799   \n",
       "5  ferret-10  0.001616  0.003526   \n",
       "6  ferret-19  0.000166  0.000190   \n",
       "7  ferret-19  0.001593  0.005917   \n",
       "8  ferret-19  0.004867  0.007665   \n",
       "\n",
       "                                               virus         NT50         NT90  \n",
       "0  A/American Wigeon/South Carolina/USDA-000345-0...  8009.684808  3049.798100  \n",
       "1            A/domesticcat/Oklahoma/24009118002/2024  1298.911622   248.558338  \n",
       "2               A/dairycattle/Texas/24009028003/2024   126.000061    59.180633  \n",
       "3  A/American Wigeon/South Carolina/USDA-000345-0...  6426.958505  5702.625162  \n",
       "4            A/domesticcat/Oklahoma/24009118002/2024  2372.645092   555.781362  \n",
       "5               A/dairycattle/Texas/24009028003/2024   618.793120   283.596784  \n",
       "6  A/American Wigeon/South Carolina/USDA-000345-0...  6007.578279  5274.925017  \n",
       "7            A/domesticcat/Oklahoma/24009118002/2024   627.661981   168.999520  \n",
       "8               A/dairycattle/Texas/24009028003/2024   205.472239   130.454649  "
      ]
     },
     "execution_count": 9,
     "metadata": {},
     "output_type": "execute_result"
    }
   ],
   "source": [
    "fitparams"
   ]
  },
  {
   "cell_type": "markdown",
   "metadata": {},
   "source": [
    "## Plot neut curves for sera"
   ]
  },
  {
   "cell_type": "code",
   "execution_count": 10,
   "metadata": {
    "tags": []
   },
   "outputs": [
    {
     "name": "stdout",
     "output_type": "stream",
     "text": [
      "Saving to ferret_H5_sera_strain_validation_neuts.pdf\n"
     ]
    },
    {
     "data": {
      "image/png": "[encoded data removed]",
      "text/plain": [
       "<Figure size 1000x325 with 4 Axes>"
      ]
     },
     "metadata": {},
     "output_type": "display_data"
    }
   ],
   "source": [
    "fig, axes = fits.plotSera(xlabel='seum dilution',\n",
    "                          max_viruses_per_subplot = 3,\n",
    "                         )\n",
    "plotfile = 'ferret_H5_sera_strain_validation_neuts.pdf'\n",
    "print(f\"Saving to {plotfile}\")\n",
    "fig.savefig(f'{resultsdir}/{plotfile}', bbox_inches='tight')"
   ]
  },
  {
   "cell_type": "markdown",
   "metadata": {},
   "source": [
    "# Correlate to DMS data"
   ]
  },
  {
   "cell_type": "code",
   "execution_count": 11,
   "metadata": {
    "tags": []
   },
   "outputs": [
    {
     "data": {
      "text/html": [
       "<div>\n",
       "<style scoped>\n",
       "    .dataframe tbody tr th:only-of-type {\n",
       "        vertical-align: middle;\n",
       "    }\n",
       "\n",
       "    .dataframe tbody tr th {\n",
       "        vertical-align: top;\n",
       "    }\n",
       "\n",
       "    .dataframe thead th {\n",
       "        text-align: right;\n",
       "    }\n",
       "</style>\n",
       "<table border=\"1\" class=\"dataframe\">\n",
       "  <thead>\n",
       "    <tr style=\"text-align: right;\">\n",
       "      <th></th>\n",
       "      <th>strain</th>\n",
       "      <th>mutation</th>\n",
       "    </tr>\n",
       "  </thead>\n",
       "  <tbody>\n",
       "    <tr>\n",
       "      <th>0</th>\n",
       "      <td>A/domesticcat/Oklahoma/24009118002/2024</td>\n",
       "      <td>L122Q</td>\n",
       "    </tr>\n",
       "    <tr>\n",
       "      <th>1</th>\n",
       "      <td>A/domesticcat/Oklahoma/24009118002/2024</td>\n",
       "      <td>P162Q</td>\n",
       "    </tr>\n",
       "    <tr>\n",
       "      <th>2</th>\n",
       "      <td>A/dairycattle/Texas/24009028003/2024</td>\n",
       "      <td>L122Q</td>\n",
       "    </tr>\n",
       "    <tr>\n",
       "      <th>3</th>\n",
       "      <td>A/dairycattle/Texas/24009028003/2024</td>\n",
       "      <td>A160T</td>\n",
       "    </tr>\n",
       "    <tr>\n",
       "      <th>4</th>\n",
       "      <td>A/skunk/NewMexico/24006483001original/2024</td>\n",
       "      <td>L122Q</td>\n",
       "    </tr>\n",
       "  </tbody>\n",
       "</table>\n",
       "</div>"
      ],
      "text/plain": [
       "                                       strain mutation\n",
       "0     A/domesticcat/Oklahoma/24009118002/2024    L122Q\n",
       "1     A/domesticcat/Oklahoma/24009118002/2024    P162Q\n",
       "2        A/dairycattle/Texas/24009028003/2024    L122Q\n",
       "3        A/dairycattle/Texas/24009028003/2024    A160T\n",
       "4  A/skunk/NewMexico/24006483001original/2024    L122Q"
      ]
     },
     "execution_count": 11,
     "metadata": {},
     "output_type": "execute_result"
    }
   ],
   "source": [
    "strains = pd.read_csv(config['strains'])\n",
    "strains.head()"
   ]
  },
  {
   "cell_type": "markdown",
   "metadata": {},
   "source": [
    "### ferret-7"
   ]
  },
  {
   "cell_type": "code",
   "execution_count": 13,
   "metadata": {
    "tags": []
   },
   "outputs": [
    {
     "data": {
      "text/html": [
       "<div>\n",
       "<style scoped>\n",
       "    .dataframe tbody tr th:only-of-type {\n",
       "        vertical-align: middle;\n",
       "    }\n",
       "\n",
       "    .dataframe tbody tr th {\n",
       "        vertical-align: top;\n",
       "    }\n",
       "\n",
       "    .dataframe thead th {\n",
       "        text-align: right;\n",
       "    }\n",
       "</style>\n",
       "<table border=\"1\" class=\"dataframe\">\n",
       "  <thead>\n",
       "    <tr style=\"text-align: right;\">\n",
       "      <th></th>\n",
       "      <th>serum</th>\n",
       "      <th>strain</th>\n",
       "      <th>escape_mean</th>\n",
       "      <th>ic90</th>\n",
       "    </tr>\n",
       "  </thead>\n",
       "  <tbody>\n",
       "    <tr>\n",
       "      <th>0</th>\n",
       "      <td>ferret-7</td>\n",
       "      <td>A/American Wigeon/South Carolina/USDA-000345-0...</td>\n",
       "      <td>0.0000</td>\n",
       "      <td>0.000328</td>\n",
       "    </tr>\n",
       "    <tr>\n",
       "      <th>3</th>\n",
       "      <td>ferret-7</td>\n",
       "      <td>A/dairycattle/Texas/24009028003/2024</td>\n",
       "      <td>3.7401</td>\n",
       "      <td>0.016897</td>\n",
       "    </tr>\n",
       "    <tr>\n",
       "      <th>4</th>\n",
       "      <td>ferret-7</td>\n",
       "      <td>A/domesticcat/Oklahoma/24009118002/2024</td>\n",
       "      <td>3.0261</td>\n",
       "      <td>0.004023</td>\n",
       "    </tr>\n",
       "  </tbody>\n",
       "</table>\n",
       "</div>"
      ],
      "text/plain": [
       "      serum                                             strain  escape_mean  \\\n",
       "0  ferret-7  A/American Wigeon/South Carolina/USDA-000345-0...       0.0000   \n",
       "3  ferret-7               A/dairycattle/Texas/24009028003/2024       3.7401   \n",
       "4  ferret-7            A/domesticcat/Oklahoma/24009118002/2024       3.0261   \n",
       "\n",
       "       ic90  \n",
       "0  0.000328  \n",
       "3  0.016897  \n",
       "4  0.004023  "
      ]
     },
     "execution_count": 13,
     "metadata": {},
     "output_type": "execute_result"
    }
   ],
   "source": [
    "ferret7_escape = pd.read_csv(config['ferret_7_sera_escape'])\n",
    "f7_strains = strains.merge(ferret7_escape[['mutation','escape_mean']], on='mutation', how='left')\n",
    "f7_escape = f7_strains.groupby('strain', as_index=False)['escape_mean'].sum()\n",
    "f7_escape['serum'] = 'ferret-7'\n",
    "f7_df = f7_escape.merge(fitparams[['virus','ic90', 'serum']], left_on=['strain', 'serum'], right_on=['virus','serum'], how='left').dropna()\n",
    "f7_df = f7_df[['serum', 'strain', 'escape_mean', 'ic90']]\n",
    "f7_df"
   ]
  },
  {
   "cell_type": "markdown",
   "metadata": {
    "tags": []
   },
   "source": [
    "### ferret-10"
   ]
  },
  {
   "cell_type": "code",
   "execution_count": 14,
   "metadata": {
    "tags": []
   },
   "outputs": [
    {
     "data": {
      "text/html": [
       "<div>\n",
       "<style scoped>\n",
       "    .dataframe tbody tr th:only-of-type {\n",
       "        vertical-align: middle;\n",
       "    }\n",
       "\n",
       "    .dataframe tbody tr th {\n",
       "        vertical-align: top;\n",
       "    }\n",
       "\n",
       "    .dataframe thead th {\n",
       "        text-align: right;\n",
       "    }\n",
       "</style>\n",
       "<table border=\"1\" class=\"dataframe\">\n",
       "  <thead>\n",
       "    <tr style=\"text-align: right;\">\n",
       "      <th></th>\n",
       "      <th>serum</th>\n",
       "      <th>strain</th>\n",
       "      <th>escape_mean</th>\n",
       "      <th>ic90</th>\n",
       "    </tr>\n",
       "  </thead>\n",
       "  <tbody>\n",
       "    <tr>\n",
       "      <th>0</th>\n",
       "      <td>ferret-10</td>\n",
       "      <td>A/American Wigeon/South Carolina/USDA-000345-0...</td>\n",
       "      <td>0.0000</td>\n",
       "      <td>0.000175</td>\n",
       "    </tr>\n",
       "    <tr>\n",
       "      <th>3</th>\n",
       "      <td>ferret-10</td>\n",
       "      <td>A/dairycattle/Texas/24009028003/2024</td>\n",
       "      <td>1.6980</td>\n",
       "      <td>0.003526</td>\n",
       "    </tr>\n",
       "    <tr>\n",
       "      <th>4</th>\n",
       "      <td>ferret-10</td>\n",
       "      <td>A/domesticcat/Oklahoma/24009118002/2024</td>\n",
       "      <td>1.1791</td>\n",
       "      <td>0.001799</td>\n",
       "    </tr>\n",
       "  </tbody>\n",
       "</table>\n",
       "</div>"
      ],
      "text/plain": [
       "       serum                                             strain  escape_mean  \\\n",
       "0  ferret-10  A/American Wigeon/South Carolina/USDA-000345-0...       0.0000   \n",
       "3  ferret-10               A/dairycattle/Texas/24009028003/2024       1.6980   \n",
       "4  ferret-10            A/domesticcat/Oklahoma/24009118002/2024       1.1791   \n",
       "\n",
       "       ic90  \n",
       "0  0.000175  \n",
       "3  0.003526  \n",
       "4  0.001799  "
      ]
     },
     "execution_count": 14,
     "metadata": {},
     "output_type": "execute_result"
    }
   ],
   "source": [
    "ferret10_escape = pd.read_csv(config['ferret_10_sera_escape'])\n",
    "f10_strains = strains.merge(ferret10_escape[['mutation','escape_mean']], on='mutation', how='left')\n",
    "f10_escape = f10_strains.groupby('strain', as_index=False)['escape_mean'].sum()\n",
    "f10_escape['serum'] = 'ferret-10'\n",
    "f10_df = f10_escape.merge(fitparams[['virus','ic90', 'serum']], left_on=['strain', 'serum'], right_on=['virus','serum'], how='left').dropna()\n",
    "f10_df = f10_df[['serum', 'strain', 'escape_mean', 'ic90']]\n",
    "f10_df"
   ]
  },
  {
   "cell_type": "markdown",
   "metadata": {},
   "source": [
    "### ferret-19"
   ]
  },
  {
   "cell_type": "code",
   "execution_count": 15,
   "metadata": {
    "tags": []
   },
   "outputs": [
    {
     "data": {
      "text/html": [
       "<div>\n",
       "<style scoped>\n",
       "    .dataframe tbody tr th:only-of-type {\n",
       "        vertical-align: middle;\n",
       "    }\n",
       "\n",
       "    .dataframe tbody tr th {\n",
       "        vertical-align: top;\n",
       "    }\n",
       "\n",
       "    .dataframe thead th {\n",
       "        text-align: right;\n",
       "    }\n",
       "</style>\n",
       "<table border=\"1\" class=\"dataframe\">\n",
       "  <thead>\n",
       "    <tr style=\"text-align: right;\">\n",
       "      <th></th>\n",
       "      <th>serum</th>\n",
       "      <th>strain</th>\n",
       "      <th>escape_mean</th>\n",
       "      <th>ic90</th>\n",
       "    </tr>\n",
       "  </thead>\n",
       "  <tbody>\n",
       "    <tr>\n",
       "      <th>0</th>\n",
       "      <td>ferret-19</td>\n",
       "      <td>A/American Wigeon/South Carolina/USDA-000345-0...</td>\n",
       "      <td>0.0000</td>\n",
       "      <td>0.000190</td>\n",
       "    </tr>\n",
       "    <tr>\n",
       "      <th>3</th>\n",
       "      <td>ferret-19</td>\n",
       "      <td>A/dairycattle/Texas/24009028003/2024</td>\n",
       "      <td>2.1017</td>\n",
       "      <td>0.007665</td>\n",
       "    </tr>\n",
       "    <tr>\n",
       "      <th>4</th>\n",
       "      <td>ferret-19</td>\n",
       "      <td>A/domesticcat/Oklahoma/24009118002/2024</td>\n",
       "      <td>1.2407</td>\n",
       "      <td>0.005917</td>\n",
       "    </tr>\n",
       "  </tbody>\n",
       "</table>\n",
       "</div>"
      ],
      "text/plain": [
       "       serum                                             strain  escape_mean  \\\n",
       "0  ferret-19  A/American Wigeon/South Carolina/USDA-000345-0...       0.0000   \n",
       "3  ferret-19               A/dairycattle/Texas/24009028003/2024       2.1017   \n",
       "4  ferret-19            A/domesticcat/Oklahoma/24009118002/2024       1.2407   \n",
       "\n",
       "       ic90  \n",
       "0  0.000190  \n",
       "3  0.007665  \n",
       "4  0.005917  "
      ]
     },
     "execution_count": 15,
     "metadata": {},
     "output_type": "execute_result"
    }
   ],
   "source": [
    "ferret19_escape = pd.read_csv(config['ferret_19_sera_escape'])\n",
    "f19_strains = strains.merge(ferret19_escape[['mutation','escape_mean']], on='mutation', how='left')\n",
    "f19_escape = f19_strains.groupby('strain', as_index=False)['escape_mean'].sum()\n",
    "f19_escape['serum'] = 'ferret-19'\n",
    "f19_df = f19_escape.merge(fitparams[['virus','ic90', 'serum']], left_on=['strain', 'serum'], right_on=['virus','serum'], how='left').dropna()\n",
    "f19_df = f19_df[['serum', 'strain', 'escape_mean', 'ic90']]\n",
    "f19_df"
   ]
  },
  {
   "cell_type": "markdown",
   "metadata": {},
   "source": [
    "## Plot correlations"
   ]
  },
  {
   "cell_type": "code",
   "execution_count": 16,
   "metadata": {
    "tags": []
   },
   "outputs": [
    {
     "data": {
      "text/html": [
       "<div>\n",
       "<style scoped>\n",
       "    .dataframe tbody tr th:only-of-type {\n",
       "        vertical-align: middle;\n",
       "    }\n",
       "\n",
       "    .dataframe tbody tr th {\n",
       "        vertical-align: top;\n",
       "    }\n",
       "\n",
       "    .dataframe thead th {\n",
       "        text-align: right;\n",
       "    }\n",
       "</style>\n",
       "<table border=\"1\" class=\"dataframe\">\n",
       "  <thead>\n",
       "    <tr style=\"text-align: right;\">\n",
       "      <th></th>\n",
       "      <th>serum</th>\n",
       "      <th>strain</th>\n",
       "      <th>escape_mean</th>\n",
       "      <th>ic90</th>\n",
       "    </tr>\n",
       "  </thead>\n",
       "  <tbody>\n",
       "    <tr>\n",
       "      <th>0</th>\n",
       "      <td>ferret-7</td>\n",
       "      <td>A/American Wigeon/South Carolina/USDA-000345-0...</td>\n",
       "      <td>0.0000</td>\n",
       "      <td>0.000328</td>\n",
       "    </tr>\n",
       "    <tr>\n",
       "      <th>1</th>\n",
       "      <td>ferret-7</td>\n",
       "      <td>A/dairycattle/Texas/24009028003/2024</td>\n",
       "      <td>3.7401</td>\n",
       "      <td>0.016897</td>\n",
       "    </tr>\n",
       "    <tr>\n",
       "      <th>2</th>\n",
       "      <td>ferret-7</td>\n",
       "      <td>A/domesticcat/Oklahoma/24009118002/2024</td>\n",
       "      <td>3.0261</td>\n",
       "      <td>0.004023</td>\n",
       "    </tr>\n",
       "    <tr>\n",
       "      <th>3</th>\n",
       "      <td>ferret-10</td>\n",
       "      <td>A/American Wigeon/South Carolina/USDA-000345-0...</td>\n",
       "      <td>0.0000</td>\n",
       "      <td>0.000175</td>\n",
       "    </tr>\n",
       "    <tr>\n",
       "      <th>4</th>\n",
       "      <td>ferret-10</td>\n",
       "      <td>A/dairycattle/Texas/24009028003/2024</td>\n",
       "      <td>1.6980</td>\n",
       "      <td>0.003526</td>\n",
       "    </tr>\n",
       "    <tr>\n",
       "      <th>5</th>\n",
       "      <td>ferret-10</td>\n",
       "      <td>A/domesticcat/Oklahoma/24009118002/2024</td>\n",
       "      <td>1.1791</td>\n",
       "      <td>0.001799</td>\n",
       "    </tr>\n",
       "    <tr>\n",
       "      <th>6</th>\n",
       "      <td>ferret-19</td>\n",
       "      <td>A/American Wigeon/South Carolina/USDA-000345-0...</td>\n",
       "      <td>0.0000</td>\n",
       "      <td>0.000190</td>\n",
       "    </tr>\n",
       "    <tr>\n",
       "      <th>7</th>\n",
       "      <td>ferret-19</td>\n",
       "      <td>A/dairycattle/Texas/24009028003/2024</td>\n",
       "      <td>2.1017</td>\n",
       "      <td>0.007665</td>\n",
       "    </tr>\n",
       "    <tr>\n",
       "      <th>8</th>\n",
       "      <td>ferret-19</td>\n",
       "      <td>A/domesticcat/Oklahoma/24009118002/2024</td>\n",
       "      <td>1.2407</td>\n",
       "      <td>0.005917</td>\n",
       "    </tr>\n",
       "  </tbody>\n",
       "</table>\n",
       "</div>"
      ],
      "text/plain": [
       "       serum                                             strain  escape_mean  \\\n",
       "0   ferret-7  A/American Wigeon/South Carolina/USDA-000345-0...       0.0000   \n",
       "1   ferret-7               A/dairycattle/Texas/24009028003/2024       3.7401   \n",
       "2   ferret-7            A/domesticcat/Oklahoma/24009118002/2024       3.0261   \n",
       "3  ferret-10  A/American Wigeon/South Carolina/USDA-000345-0...       0.0000   \n",
       "4  ferret-10               A/dairycattle/Texas/24009028003/2024       1.6980   \n",
       "5  ferret-10            A/domesticcat/Oklahoma/24009118002/2024       1.1791   \n",
       "6  ferret-19  A/American Wigeon/South Carolina/USDA-000345-0...       0.0000   \n",
       "7  ferret-19               A/dairycattle/Texas/24009028003/2024       2.1017   \n",
       "8  ferret-19            A/domesticcat/Oklahoma/24009118002/2024       1.2407   \n",
       "\n",
       "       ic90  \n",
       "0  0.000328  \n",
       "1  0.016897  \n",
       "2  0.004023  \n",
       "3  0.000175  \n",
       "4  0.003526  \n",
       "5  0.001799  \n",
       "6  0.000190  \n",
       "7  0.007665  \n",
       "8  0.005917  "
      ]
     },
     "execution_count": 16,
     "metadata": {},
     "output_type": "execute_result"
    }
   ],
   "source": [
    "merge_df = pd.concat([f7_df, f10_df, f19_df], ignore_index=True)\n",
    "merge_df"
   ]
  },
  {
   "cell_type": "code",
   "execution_count": 17,
   "metadata": {
    "tags": []
   },
   "outputs": [],
   "source": [
    "# Calculate the correlation for each subset of data\n",
    "merge_df['log_ic90'] = np.log(merge_df['ic90'])\n",
    "\n",
    "# Calculate the correlation on the log-transformed IC90 values\n",
    "correlations = merge_df.groupby('serum').apply(lambda df: df['escape_mean'].corr(df['log_ic90'])).reset_index()\n",
    "correlations.columns = ['serum', 'correlation']\n",
    "\n",
    "# Merge the correlation values back to the original DataFrame\n",
    "merge_df = merge_df.merge(correlations, on='serum')"
   ]
  },
  {
   "cell_type": "code",
   "execution_count": 19,
   "metadata": {
    "tags": []
   },
   "outputs": [
    {
     "data": {
      "text/html": [
       "<div>\n",
       "<style scoped>\n",
       "    .dataframe tbody tr th:only-of-type {\n",
       "        vertical-align: middle;\n",
       "    }\n",
       "\n",
       "    .dataframe tbody tr th {\n",
       "        vertical-align: top;\n",
       "    }\n",
       "\n",
       "    .dataframe thead th {\n",
       "        text-align: right;\n",
       "    }\n",
       "</style>\n",
       "<table border=\"1\" class=\"dataframe\">\n",
       "  <thead>\n",
       "    <tr style=\"text-align: right;\">\n",
       "      <th></th>\n",
       "      <th>serum</th>\n",
       "      <th>strain</th>\n",
       "      <th>escape_mean</th>\n",
       "      <th>ic90</th>\n",
       "      <th>log_ic90</th>\n",
       "      <th>correlation</th>\n",
       "    </tr>\n",
       "  </thead>\n",
       "  <tbody>\n",
       "    <tr>\n",
       "      <th>0</th>\n",
       "      <td>ferret-7</td>\n",
       "      <td>A/American Wigeon/South Carolina/USDA-000345-0...</td>\n",
       "      <td>0.0000</td>\n",
       "      <td>0.000328</td>\n",
       "      <td>-8.022831</td>\n",
       "      <td>0.982551</td>\n",
       "    </tr>\n",
       "    <tr>\n",
       "      <th>1</th>\n",
       "      <td>ferret-7</td>\n",
       "      <td>A/dairycattle/Texas/24009028003/2024</td>\n",
       "      <td>3.7401</td>\n",
       "      <td>0.016897</td>\n",
       "      <td>-4.080594</td>\n",
       "      <td>0.982551</td>\n",
       "    </tr>\n",
       "    <tr>\n",
       "      <th>2</th>\n",
       "      <td>ferret-7</td>\n",
       "      <td>A/domesticcat/Oklahoma/24009118002/2024</td>\n",
       "      <td>3.0261</td>\n",
       "      <td>0.004023</td>\n",
       "      <td>-5.515678</td>\n",
       "      <td>0.982551</td>\n",
       "    </tr>\n",
       "    <tr>\n",
       "      <th>3</th>\n",
       "      <td>ferret-10</td>\n",
       "      <td>A/American Wigeon/South Carolina/USDA-000345-0...</td>\n",
       "      <td>0.0000</td>\n",
       "      <td>0.000175</td>\n",
       "      <td>-8.648682</td>\n",
       "      <td>0.996174</td>\n",
       "    </tr>\n",
       "    <tr>\n",
       "      <th>4</th>\n",
       "      <td>ferret-10</td>\n",
       "      <td>A/dairycattle/Texas/24009028003/2024</td>\n",
       "      <td>1.6980</td>\n",
       "      <td>0.003526</td>\n",
       "      <td>-5.647553</td>\n",
       "      <td>0.996174</td>\n",
       "    </tr>\n",
       "    <tr>\n",
       "      <th>5</th>\n",
       "      <td>ferret-10</td>\n",
       "      <td>A/domesticcat/Oklahoma/24009118002/2024</td>\n",
       "      <td>1.1791</td>\n",
       "      <td>0.001799</td>\n",
       "      <td>-6.320375</td>\n",
       "      <td>0.996174</td>\n",
       "    </tr>\n",
       "    <tr>\n",
       "      <th>6</th>\n",
       "      <td>ferret-19</td>\n",
       "      <td>A/American Wigeon/South Carolina/USDA-000345-0...</td>\n",
       "      <td>0.0000</td>\n",
       "      <td>0.000190</td>\n",
       "      <td>-8.570720</td>\n",
       "      <td>0.936964</td>\n",
       "    </tr>\n",
       "    <tr>\n",
       "      <th>7</th>\n",
       "      <td>ferret-19</td>\n",
       "      <td>A/dairycattle/Texas/24009028003/2024</td>\n",
       "      <td>2.1017</td>\n",
       "      <td>0.007665</td>\n",
       "      <td>-4.871026</td>\n",
       "      <td>0.936964</td>\n",
       "    </tr>\n",
       "    <tr>\n",
       "      <th>8</th>\n",
       "      <td>ferret-19</td>\n",
       "      <td>A/domesticcat/Oklahoma/24009118002/2024</td>\n",
       "      <td>1.2407</td>\n",
       "      <td>0.005917</td>\n",
       "      <td>-5.129896</td>\n",
       "      <td>0.936964</td>\n",
       "    </tr>\n",
       "  </tbody>\n",
       "</table>\n",
       "</div>"
      ],
      "text/plain": [
       "       serum                                             strain  escape_mean  \\\n",
       "0   ferret-7  A/American Wigeon/South Carolina/USDA-000345-0...       0.0000   \n",
       "1   ferret-7               A/dairycattle/Texas/24009028003/2024       3.7401   \n",
       "2   ferret-7            A/domesticcat/Oklahoma/24009118002/2024       3.0261   \n",
       "3  ferret-10  A/American Wigeon/South Carolina/USDA-000345-0...       0.0000   \n",
       "4  ferret-10               A/dairycattle/Texas/24009028003/2024       1.6980   \n",
       "5  ferret-10            A/domesticcat/Oklahoma/24009118002/2024       1.1791   \n",
       "6  ferret-19  A/American Wigeon/South Carolina/USDA-000345-0...       0.0000   \n",
       "7  ferret-19               A/dairycattle/Texas/24009028003/2024       2.1017   \n",
       "8  ferret-19            A/domesticcat/Oklahoma/24009118002/2024       1.2407   \n",
       "\n",
       "       ic90  log_ic90  correlation  \n",
       "0  0.000328 -8.022831     0.982551  \n",
       "1  0.016897 -4.080594     0.982551  \n",
       "2  0.004023 -5.515678     0.982551  \n",
       "3  0.000175 -8.648682     0.996174  \n",
       "4  0.003526 -5.647553     0.996174  \n",
       "5  0.001799 -6.320375     0.996174  \n",
       "6  0.000190 -8.570720     0.936964  \n",
       "7  0.007665 -4.871026     0.936964  \n",
       "8  0.005917 -5.129896     0.936964  "
      ]
     },
     "execution_count": 19,
     "metadata": {},
     "output_type": "execute_result"
    }
   ],
   "source": [
    "merge_df"
   ]
  },
  {
   "cell_type": "code",
   "execution_count": 23,
   "metadata": {
    "tags": []
   },
   "outputs": [
    {
     "data": {
      "text/html": [
       "\n",
       "<style>\n",
       "  #altair-viz-de3f313288b7485390d2b92be74db400.vega-embed {\n",
       "    width: 100%;\n",
       "    display: flex;\n",
       "  }\n",
       "\n",
       "  #altair-viz-de3f313288b7485390d2b92be74db400.vega-embed details,\n",
       "  #altair-viz-de3f313288b7485390d2b92be74db400.vega-embed details summary {\n",
       "    position: relative;\n",
       "  }\n",
       "</style>\n",
       "<div id=\"altair-viz-de3f313288b7485390d2b92be74db400\"></div>\n",
       "<script type=\"text/javascript\">\n",
       "  var VEGA_DEBUG = (typeof VEGA_DEBUG == \"undefined\") ? {} : VEGA_DEBUG;\n",
       "  (function(spec, embedOpt){\n",
       "    let outputDiv = document.currentScript.previousElementSibling;\n",
       "    if (outputDiv.id !== \"altair-viz-de3f313288b7485390d2b92be74db400\") {\n",
       "      outputDiv = document.getElementById(\"altair-viz-de3f313288b7485390d2b92be74db400\");\n",
       "    }\n",
       "    const paths = {\n",
       "      \"vega\": \"https://cdn.jsdelivr.net/npm/vega@5?noext\",\n",
       "      \"vega-lib\": \"https://cdn.jsdelivr.net/npm/vega-lib?noext\",\n",
       "      \"vega-lite\": \"https://cdn.jsdelivr.net/npm/vega-lite@5.8.0?noext\",\n",
       "      \"vega-embed\": \"https://cdn.jsdelivr.net/npm/vega-embed@6?noext\",\n",
       "    };\n",
       "\n",
       "    function maybeLoadScript(lib, version) {\n",
       "      var key = `${lib.replace(\"-\", \"\")}_version`;\n",
       "      return (VEGA_DEBUG[key] == version) ?\n",
       "        Promise.resolve(paths[lib]) :\n",
       "        new Promise(function(resolve, reject) {\n",
       "          var s = document.createElement('script');\n",
       "          document.getElementsByTagName(\"head\")[0].appendChild(s);\n",
       "          s.async = true;\n",
       "          s.onload = () => {\n",
       "            VEGA_DEBUG[key] = version;\n",
       "            return resolve(paths[lib]);\n",
       "          };\n",
       "          s.onerror = () => reject(`Error loading script: ${paths[lib]}`);\n",
       "          s.src = paths[lib];\n",
       "        });\n",
       "    }\n",
       "\n",
       "    function showError(err) {\n",
       "      outputDiv.innerHTML = `<div class=\"error\" style=\"color:red;\">${err}</div>`;\n",
       "      throw err;\n",
       "    }\n",
       "\n",
       "    function displayChart(vegaEmbed) {\n",
       "      vegaEmbed(outputDiv, spec, embedOpt)\n",
       "        .catch(err => showError(`Javascript Error: ${err.message}<br>This usually means there's a typo in your chart specification. See the javascript console for the full traceback.`));\n",
       "    }\n",
       "\n",
       "    if(typeof define === \"function\" && define.amd) {\n",
       "      requirejs.config({paths});\n",
       "      require([\"vega-embed\"], displayChart, err => showError(`Error loading script: ${err.message}`));\n",
       "    } else {\n",
       "      maybeLoadScript(\"vega\", \"5\")\n",
       "        .then(() => maybeLoadScript(\"vega-lite\", \"5.8.0\"))\n",
       "        .then(() => maybeLoadScript(\"vega-embed\", \"6\"))\n",
       "        .catch(showError)\n",
       "        .then(() => displayChart(vegaEmbed));\n",
       "    }\n",
       "  })({\"config\": {\"view\": {\"continuousWidth\": 300, \"continuousHeight\": 300, \"strokeWidth\": 0}, \"axis\": {\"grid\": false}, \"legend\": {\"labelFontSize\": 10, \"labelLimit\": 2, \"orient\": \"right\", \"titleFontSize\": 12, \"titleLimit\": 2}}, \"data\": {\"name\": \"data-ca613cd885b498227fb63f952583f304\"}, \"facet\": {\"field\": \"serum\", \"sort\": [\"mouse_1-02\", \"mouse_1-03\", \"mouse_1-05\"], \"type\": \"nominal\"}, \"spec\": {\"layer\": [{\"mark\": {\"type\": \"point\", \"filled\": true, \"size\": 100}, \"encoding\": {\"color\": {\"field\": \"strain\", \"legend\": {\"labelLimit\": 200, \"orient\": \"right\", \"title\": \"Strain\", \"titleLimit\": 200}, \"type\": \"nominal\"}, \"x\": {\"field\": \"escape_mean\", \"scale\": {\"padding\": 10}, \"type\": \"quantitative\"}, \"y\": {\"field\": \"ic90\", \"scale\": {\"padding\": 10, \"type\": \"log\"}, \"type\": \"quantitative\"}}}, {\"mark\": {\"type\": \"text\", \"align\": \"left\", \"baseline\": \"top\", \"color\": \"black\", \"dx\": 5, \"dy\": 5, \"fontSize\": 10}, \"encoding\": {\"text\": {\"field\": \"correlation\", \"format\": \".2f\", \"type\": \"nominal\"}, \"x\": {\"value\": 1}, \"y\": {\"value\": 1}}}], \"height\": 200, \"width\": 200}, \"columns\": 3, \"padding\": {\"left\": 2, \"right\": 200, \"top\": 20, \"bottom\": 20}, \"$schema\": \"https://vega.github.io/schema/vega-lite/v5.8.0.json\", \"datasets\": {\"data-ca613cd885b498227fb63f952583f304\": [{\"serum\": \"ferret-7\", \"strain\": \"A/American Wigeon/South Carolina/USDA-000345-001/2021\", \"escape_mean\": 0.0, \"ic90\": 0.00032789055770278977, \"log_ic90\": -8.022830670799138, \"correlation\": 0.9825506840282375}, {\"serum\": \"ferret-7\", \"strain\": \"A/dairycattle/Texas/24009028003/2024\", \"escape_mean\": 3.7401, \"ic90\": 0.016897419762870913, \"log_ic90\": -4.0805943454625915, \"correlation\": 0.9825506840282375}, {\"serum\": \"ferret-7\", \"strain\": \"A/domesticcat/Oklahoma/24009118002/2024\", \"escape_mean\": 3.0261, \"ic90\": 0.00402320038285351, \"log_ic90\": -5.515677577945082, \"correlation\": 0.9825506840282375}, {\"serum\": \"ferret-10\", \"strain\": \"A/American Wigeon/South Carolina/USDA-000345-001/2021\", \"escape_mean\": 0.0, \"ic90\": 0.00017535783462064227, \"log_ic90\": -8.648681902475193, \"correlation\": 0.9961740584770439}, {\"serum\": \"ferret-10\", \"strain\": \"A/dairycattle/Texas/24009028003/2024\", \"escape_mean\": 1.698, \"ic90\": 0.003526133080794126, \"log_ic90\": -5.647553453009075, \"correlation\": 0.9961740584770439}, {\"serum\": \"ferret-10\", \"strain\": \"A/domesticcat/Oklahoma/24009118002/2024\", \"escape_mean\": 1.1791, \"ic90\": 0.0017992686852436502, \"log_ic90\": -6.320374982612277, \"correlation\": 0.9961740584770439}, {\"serum\": \"ferret-19\", \"strain\": \"A/American Wigeon/South Carolina/USDA-000345-001/2021\", \"escape_mean\": 0.0, \"ic90\": 0.00018957615449962056, \"log_ic90\": -8.5707197434598, \"correlation\": 0.9369642184675058}, {\"serum\": \"ferret-19\", \"strain\": \"A/dairycattle/Texas/24009028003/2024\", \"escape_mean\": 2.1017, \"ic90\": 0.0076654991297418085, \"log_ic90\": -4.871025650742986, \"correlation\": 0.9369642184675058}, {\"serum\": \"ferret-19\", \"strain\": \"A/domesticcat/Oklahoma/24009118002/2024\", \"escape_mean\": 1.2407, \"ic90\": 0.005917176568127864, \"log_ic90\": -5.1298958749134975, \"correlation\": 0.9369642184675058}]}}, {\"mode\": \"vega-lite\"});\n",
       "</script>"
      ],
      "text/plain": [
       "alt.FacetChart(...)"
      ]
     },
     "execution_count": 23,
     "metadata": {},
     "output_type": "execute_result"
    }
   ],
   "source": [
    "# Base chart\n",
    "base = alt.Chart(merge_df).mark_point(filled=True, size=100).encode(\n",
    "    x=alt.X('escape_mean', scale=alt.Scale(padding=10)),\n",
    "    y=alt.Y('ic90', scale=alt.Scale(type='log', padding=10)),\n",
    "    color=alt.Color('strain', legend=alt.Legend(orient='right', title='Strain', titleLimit=200, labelLimit=200))\n",
    ").properties(\n",
    "    width=200,\n",
    "    height=200\n",
    ")\n",
    "\n",
    "# Text chart for R values\n",
    "text = alt.Chart(merge_df).mark_text(\n",
    "    align='left',\n",
    "    baseline='top',\n",
    "    dx=5,\n",
    "    dy=5,\n",
    "    fontSize=10,\n",
    "    color='black'\n",
    ").encode(\n",
    "    x=alt.value(1),  # Adjust the position as needed\n",
    "    y=alt.value(1),  # Adjust the position as needed\n",
    "    text=alt.Text('correlation:N', format='.2f')  # Treat correlation as nominal for text formatting\n",
    ")\n",
    "\n",
    "# Combine the base chart and text annotations\n",
    "layer = alt.layer(base, text)\n",
    "\n",
    "# Facet and configure the chart with padding and fixed facet order\n",
    "chart = layer.facet(\n",
    "    facet=alt.Facet('serum:N', sort=['mouse_1-02', 'mouse_1-03', 'mouse_1-05']),\n",
    "    columns=3\n",
    ").configure_axis(\n",
    "    grid=False\n",
    ").configure_view(\n",
    "    strokeWidth=0\n",
    ").configure_legend(\n",
    "    titleFontSize=12,\n",
    "    labelFontSize=10,\n",
    "    orient='right',\n",
    "    titleLimit=2,\n",
    "    labelLimit=2\n",
    ").properties(\n",
    "    padding={'left': 2, 'right': 200, 'top': 20, 'bottom': 20}  # Increase right padding to ensure the legend is fully visible\n",
    ")\n",
    "chart.save(\"./results/ferret_sera_strain_validation.html\")\n",
    "\n",
    "chart\n"
   ]
  },
  {
   "cell_type": "code",
   "execution_count": null,
   "metadata": {},
   "outputs": [],
   "source": []
  },
  {
   "cell_type": "code",
   "execution_count": null,
   "metadata": {},
   "outputs": [],
   "source": []
  },
  {
   "cell_type": "code",
   "execution_count": null,
   "metadata": {},
   "outputs": [],
   "source": []
  },
  {
   "cell_type": "code",
   "execution_count": null,
   "metadata": {},
   "outputs": [],
   "source": []
  },
  {
   "cell_type": "code",
   "execution_count": null,
   "metadata": {},
   "outputs": [],
   "source": []
  },
  {
   "cell_type": "code",
   "execution_count": null,
   "metadata": {},
   "outputs": [],
   "source": []
  }
 ],
 "metadata": {
  "kernelspec": {
   "display_name": "Python 3 (ipykernel)",
   "language": "python",
   "name": "python3"
  },
  "language_info": {
   "codemirror_mode": {
    "name": "ipython",
    "version": 3
   },
   "file_extension": ".py",
   "mimetype": "text/x-python",
   "name": "python",
   "nbconvert_exporter": "python",
   "pygments_lexer": "ipython3",
   "version": "3.11.3"
  }
 },
 "nbformat": 4,
 "nbformat_minor": 4
}
