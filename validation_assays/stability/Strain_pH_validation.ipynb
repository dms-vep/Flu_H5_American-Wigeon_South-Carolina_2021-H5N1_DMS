{
 "cells": [
  {
   "cell_type": "markdown",
   "id": "0025ba5e-eb75-4c43-a8e4-42e761068e81",
   "metadata": {},
   "source": [
    "# Strain stability validation"
   ]
  },
  {
   "cell_type": "code",
   "execution_count": 1,
   "id": "fbe3cff7-a11c-4285-8579-ba91f3474dda",
   "metadata": {
    "tags": []
   },
   "outputs": [],
   "source": [
    "import altair as alt\n",
    "\n",
    "import numpy\n",
    "\n",
    "import pandas as pd"
   ]
  },
  {
   "cell_type": "code",
   "execution_count": 5,
   "id": "bb153650-bc93-45de-8494-03011124fa02",
   "metadata": {
    "tags": []
   },
   "outputs": [],
   "source": [
    "validation_data = pd.read_csv('isolated_strain_stability_validation.csv')"
   ]
  },
  {
   "cell_type": "code",
   "execution_count": 6,
   "id": "1051b96a-42dc-40b1-8874-93c30204ed6a",
   "metadata": {
    "tags": []
   },
   "outputs": [
    {
     "data": {
      "text/html": [
       "<div>\n",
       "<style scoped>\n",
       "    .dataframe tbody tr th:only-of-type {\n",
       "        vertical-align: middle;\n",
       "    }\n",
       "\n",
       "    .dataframe tbody tr th {\n",
       "        vertical-align: top;\n",
       "    }\n",
       "\n",
       "    .dataframe thead th {\n",
       "        text-align: right;\n",
       "    }\n",
       "</style>\n",
       "<table border=\"1\" class=\"dataframe\">\n",
       "  <thead>\n",
       "    <tr style=\"text-align: right;\">\n",
       "      <th></th>\n",
       "      <th>Strain</th>\n",
       "      <th>Infectivity_retained</th>\n",
       "      <th>pH</th>\n",
       "    </tr>\n",
       "  </thead>\n",
       "  <tbody>\n",
       "    <tr>\n",
       "      <th>0</th>\n",
       "      <td>A/chicken/Khabarovsk/244V/2022(N446K)</td>\n",
       "      <td>1.000000</td>\n",
       "      <td>6.9</td>\n",
       "    </tr>\n",
       "    <tr>\n",
       "      <th>1</th>\n",
       "      <td>A/chicken/Khabarovsk/244V/2022(N446K)</td>\n",
       "      <td>1.000000</td>\n",
       "      <td>6.9</td>\n",
       "    </tr>\n",
       "    <tr>\n",
       "      <th>2</th>\n",
       "      <td>A/chicken/Khabarovsk/244V/2022(N446K)</td>\n",
       "      <td>1.000000</td>\n",
       "      <td>6.9</td>\n",
       "    </tr>\n",
       "    <tr>\n",
       "      <th>3</th>\n",
       "      <td>A/chicken/Khabarovsk/244V/2022(N446K)</td>\n",
       "      <td>0.421212</td>\n",
       "      <td>5.7</td>\n",
       "    </tr>\n",
       "    <tr>\n",
       "      <th>4</th>\n",
       "      <td>A/chicken/Khabarovsk/244V/2022(N446K)</td>\n",
       "      <td>0.599251</td>\n",
       "      <td>5.7</td>\n",
       "    </tr>\n",
       "  </tbody>\n",
       "</table>\n",
       "</div>"
      ],
      "text/plain": [
       "                                  Strain  Infectivity_retained   pH\n",
       "0  A/chicken/Khabarovsk/244V/2022(N446K)              1.000000  6.9\n",
       "1  A/chicken/Khabarovsk/244V/2022(N446K)              1.000000  6.9\n",
       "2  A/chicken/Khabarovsk/244V/2022(N446K)              1.000000  6.9\n",
       "3  A/chicken/Khabarovsk/244V/2022(N446K)              0.421212  5.7\n",
       "4  A/chicken/Khabarovsk/244V/2022(N446K)              0.599251  5.7"
      ]
     },
     "execution_count": 6,
     "metadata": {},
     "output_type": "execute_result"
    }
   ],
   "source": [
    "validation_data.head()"
   ]
  },
  {
   "cell_type": "code",
   "execution_count": 47,
   "id": "5fcbb586-4e6c-44c1-b80c-90506788cb49",
   "metadata": {
    "tags": []
   },
   "outputs": [
    {
     "data": {
      "text/html": [
       "\n",
       "<style>\n",
       "  #altair-viz-b55ddb831c4848498175821be66aa5a7.vega-embed {\n",
       "    width: 100%;\n",
       "    display: flex;\n",
       "  }\n",
       "\n",
       "  #altair-viz-b55ddb831c4848498175821be66aa5a7.vega-embed details,\n",
       "  #altair-viz-b55ddb831c4848498175821be66aa5a7.vega-embed details summary {\n",
       "    position: relative;\n",
       "  }\n",
       "</style>\n",
       "<div id=\"altair-viz-b55ddb831c4848498175821be66aa5a7\"></div>\n",
       "<script type=\"text/javascript\">\n",
       "  var VEGA_DEBUG = (typeof VEGA_DEBUG == \"undefined\") ? {} : VEGA_DEBUG;\n",
       "  (function(spec, embedOpt){\n",
       "    let outputDiv = document.currentScript.previousElementSibling;\n",
       "    if (outputDiv.id !== \"altair-viz-b55ddb831c4848498175821be66aa5a7\") {\n",
       "      outputDiv = document.getElementById(\"altair-viz-b55ddb831c4848498175821be66aa5a7\");\n",
       "    }\n",
       "    const paths = {\n",
       "      \"vega\": \"https://cdn.jsdelivr.net/npm/vega@5?noext\",\n",
       "      \"vega-lib\": \"https://cdn.jsdelivr.net/npm/vega-lib?noext\",\n",
       "      \"vega-lite\": \"https://cdn.jsdelivr.net/npm/vega-lite@5.8.0?noext\",\n",
       "      \"vega-embed\": \"https://cdn.jsdelivr.net/npm/vega-embed@6?noext\",\n",
       "    };\n",
       "\n",
       "    function maybeLoadScript(lib, version) {\n",
       "      var key = `${lib.replace(\"-\", \"\")}_version`;\n",
       "      return (VEGA_DEBUG[key] == version) ?\n",
       "        Promise.resolve(paths[lib]) :\n",
       "        new Promise(function(resolve, reject) {\n",
       "          var s = document.createElement('script');\n",
       "          document.getElementsByTagName(\"head\")[0].appendChild(s);\n",
       "          s.async = true;\n",
       "          s.onload = () => {\n",
       "            VEGA_DEBUG[key] = version;\n",
       "            return resolve(paths[lib]);\n",
       "          };\n",
       "          s.onerror = () => reject(`Error loading script: ${paths[lib]}`);\n",
       "          s.src = paths[lib];\n",
       "        });\n",
       "    }\n",
       "\n",
       "    function showError(err) {\n",
       "      outputDiv.innerHTML = `<div class=\"error\" style=\"color:red;\">${err}</div>`;\n",
       "      throw err;\n",
       "    }\n",
       "\n",
       "    function displayChart(vegaEmbed) {\n",
       "      vegaEmbed(outputDiv, spec, embedOpt)\n",
       "        .catch(err => showError(`Javascript Error: ${err.message}<br>This usually means there's a typo in your chart specification. See the javascript console for the full traceback.`));\n",
       "    }\n",
       "\n",
       "    if(typeof define === \"function\" && define.amd) {\n",
       "      requirejs.config({paths});\n",
       "      require([\"vega-embed\"], displayChart, err => showError(`Error loading script: ${err.message}`));\n",
       "    } else {\n",
       "      maybeLoadScript(\"vega\", \"5\")\n",
       "        .then(() => maybeLoadScript(\"vega-lite\", \"5.8.0\"))\n",
       "        .then(() => maybeLoadScript(\"vega-embed\", \"6\"))\n",
       "        .catch(showError)\n",
       "        .then(() => displayChart(vegaEmbed));\n",
       "    }\n",
       "  })({\"config\": {\"view\": {\"continuousWidth\": 300, \"continuousHeight\": 300}, \"axis\": {\"grid\": false}, \"legend\": {\"labelFontSize\": 12, \"labelLimit\": 400, \"orient\": \"right\", \"symbolSize\": 100, \"title\": null, \"titleFontSize\": 14}}, \"layer\": [{\"mark\": {\"type\": \"point\", \"filled\": true, \"size\": 100}, \"encoding\": {\"color\": {\"field\": \"Strain\", \"scale\": {\"domain\": [\"A/American Wigeon/South Carolina/USDA-000345-001/2021(WT)\", \"A/chicken/Khabarovsk/244V/2022(N446K)\", \"A/Larusargentatus/Belgium/085710001/2023(R81G_R90Q)\"], \"range\": [\"grey\", \"orange\", \"#2ca25f\"]}, \"type\": \"nominal\"}, \"tooltip\": [{\"field\": \"Strain\", \"type\": \"nominal\"}, {\"field\": \"pH\", \"type\": \"quantitative\"}, {\"field\": \"mean_infectivity\", \"type\": \"quantitative\"}, {\"field\": \"std_infectivity\", \"type\": \"quantitative\"}], \"x\": {\"field\": \"pH\", \"scale\": {\"domain\": [7, 5.2]}, \"type\": \"quantitative\"}, \"y\": {\"field\": \"mean_infectivity\", \"scale\": {\"domain\": [0.005, 1], \"type\": \"log\"}, \"title\": \"retained Infectivity\", \"type\": \"quantitative\"}}}, {\"mark\": {\"type\": \"errorbar\", \"extent\": \"stdev\"}, \"encoding\": {\"color\": {\"field\": \"Strain\", \"scale\": {\"domain\": [\"A/American Wigeon/South Carolina/USDA-000345-001/2021(WT)\", \"A/chicken/Khabarovsk/244V/2022(N446K)\", \"A/Larusargentatus/Belgium/085710001/2023(R81G_R90Q)\"], \"range\": [\"grey\", \"orange\", \"#2ca25f\"]}, \"type\": \"nominal\"}, \"x\": {\"field\": \"pH\", \"scale\": {\"domain\": [7, 5.2]}, \"type\": \"quantitative\"}, \"y\": {\"field\": \"mean_infectivity\", \"scale\": {\"domain\": [0.005, 1], \"type\": \"log\"}, \"title\": \"retained Infectivity\", \"type\": \"quantitative\"}, \"yError\": {\"field\": \"std_infectivity\"}}}, {\"mark\": {\"type\": \"line\", \"strokeWidth\": 3}, \"encoding\": {\"color\": {\"field\": \"Strain\", \"scale\": {\"domain\": [\"A/American Wigeon/South Carolina/USDA-000345-001/2021(WT)\", \"A/chicken/Khabarovsk/244V/2022(N446K)\", \"A/Larusargentatus/Belgium/085710001/2023(R81G_R90Q)\"], \"range\": [\"grey\", \"orange\", \"#2ca25f\"]}, \"type\": \"nominal\"}, \"x\": {\"field\": \"pH\", \"scale\": {\"domain\": [7, 5.2]}, \"type\": \"quantitative\"}, \"y\": {\"field\": \"mean_infectivity\", \"scale\": {\"domain\": [0.005, 1], \"type\": \"log\"}, \"title\": \"retained Infectivity\", \"type\": \"quantitative\"}}}], \"data\": {\"name\": \"data-5455b9062caaae8aa5c2f85583cef7a9\"}, \"height\": 300, \"title\": \"retained Infectivity vs pH\", \"width\": 300, \"$schema\": \"https://vega.github.io/schema/vega-lite/v5.8.0.json\", \"datasets\": {\"data-5455b9062caaae8aa5c2f85583cef7a9\": [{\"Strain\": \"A/American Wigeon/South Carolina/USDA-000345-001/2021(WT)\", \"pH\": 5.3, \"mean_infectivity\": 0.007732330666666666, \"std_infectivity\": 0.0013845476953764843}, {\"Strain\": \"A/American Wigeon/South Carolina/USDA-000345-001/2021(WT)\", \"pH\": 5.5, \"mean_infectivity\": 0.038843911, \"std_infectivity\": 0.005281001087310718}, {\"Strain\": \"A/American Wigeon/South Carolina/USDA-000345-001/2021(WT)\", \"pH\": 5.7, \"mean_infectivity\": 0.16741452233333334, \"std_infectivity\": 0.03667136242660516}, {\"Strain\": \"A/American Wigeon/South Carolina/USDA-000345-001/2021(WT)\", \"pH\": 6.9, \"mean_infectivity\": 1.0, \"std_infectivity\": 0.0}, {\"Strain\": \"A/Larusargentatus/Belgium/085710001/2023(R81G_R90Q)\", \"pH\": 5.3, \"mean_infectivity\": 0.03997890166666667, \"std_infectivity\": 0.007970118468734157}, {\"Strain\": \"A/Larusargentatus/Belgium/085710001/2023(R81G_R90Q)\", \"pH\": 5.5, \"mean_infectivity\": 0.45811795366666663, \"std_infectivity\": 0.03109678766357221}, {\"Strain\": \"A/Larusargentatus/Belgium/085710001/2023(R81G_R90Q)\", \"pH\": 5.7, \"mean_infectivity\": 0.6608780326666667, \"std_infectivity\": 0.13826034589448497}, {\"Strain\": \"A/Larusargentatus/Belgium/085710001/2023(R81G_R90Q)\", \"pH\": 6.9, \"mean_infectivity\": 1.0, \"std_infectivity\": 0.0}, {\"Strain\": \"A/chicken/Khabarovsk/244V/2022(N446K)\", \"pH\": 5.3, \"mean_infectivity\": 0.018338440666666667, \"std_infectivity\": 0.007542080305263615}, {\"Strain\": \"A/chicken/Khabarovsk/244V/2022(N446K)\", \"pH\": 5.5, \"mean_infectivity\": 0.2155283166666667, \"std_infectivity\": 0.04599402876731256}, {\"Strain\": \"A/chicken/Khabarovsk/244V/2022(N446K)\", \"pH\": 5.7, \"mean_infectivity\": 0.43977982033333335, \"std_infectivity\": 0.15104563701893067}, {\"Strain\": \"A/chicken/Khabarovsk/244V/2022(N446K)\", \"pH\": 6.9, \"mean_infectivity\": 1.0, \"std_infectivity\": 0.0}]}}, {\"mode\": \"vega-lite\"});\n",
       "</script>"
      ],
      "text/plain": [
       "alt.LayerChart(...)"
      ]
     },
     "metadata": {},
     "output_type": "display_data"
    }
   ],
   "source": [
    "color_palette = alt.Scale(\n",
    "    domain=[\n",
    "        'A/American Wigeon/South Carolina/USDA-000345-001/2021(WT)',\n",
    "        'A/chicken/Khabarovsk/244V/2022(N446K)',\n",
    "        'A/Larusargentatus/Belgium/085710001/2023(R81G_R90Q)'\n",
    "    ],\n",
    "    range=[\n",
    "        'grey',\n",
    "        'orange',\n",
    "        '#2ca25f'\n",
    "    ]\n",
    ")\n",
    "\n",
    "# Create the base chart\n",
    "base = alt.Chart(df_summary).encode(\n",
    "    x=alt.X('pH:Q', scale=alt.Scale(domain=[7, 5.2])),\n",
    "    y=alt.Y('mean_infectivity:Q', scale=alt.Scale(type='log', domain=[0.005, 1]), title='retained Infectivity'),\n",
    "    color=alt.Color('Strain:N', scale=color_palette)\n",
    ")\n",
    "\n",
    "points = base.mark_point(filled=True, size=100).encode(\n",
    "    tooltip=['Strain', 'pH', 'mean_infectivity', 'std_infectivity']\n",
    ")\n",
    "\n",
    "error_bars = base.mark_errorbar(extent='stdev').encode(\n",
    "    yError='std_infectivity:Q'\n",
    ")\n",
    "\n",
    "lines = base.mark_line(strokeWidth=3)\n",
    "\n",
    "# Create the chart\n",
    "chart = (points + error_bars + lines).properties(\n",
    "    title='retained Infectivity vs pH',\n",
    "    width=300,\n",
    "    height=300\n",
    ").configure_axis(\n",
    "    grid=False\n",
    ").configure_legend(\n",
    "    title=None,\n",
    "    orient='right',\n",
    "    labelFontSize=12,\n",
    "    symbolSize=100,\n",
    "    titleFontSize=14,\n",
    "    labelLimit=400\n",
    ")\n",
    "\n",
    "chart.display()\n",
    "chart.save(\"strain_pH_stability.html\")\n"
   ]
  },
  {
   "cell_type": "code",
   "execution_count": null,
   "id": "da8a8f9b-76e0-41d9-bced-f66df32fdb28",
   "metadata": {},
   "outputs": [],
   "source": []
  }
 ],
 "metadata": {
  "kernelspec": {
   "display_name": "Python 3 (ipykernel)",
   "language": "python",
   "name": "python3"
  },
  "language_info": {
   "codemirror_mode": {
    "name": "ipython",
    "version": 3
   },
   "file_extension": ".py",
   "mimetype": "text/x-python",
   "name": "python",
   "nbconvert_exporter": "python",
   "pygments_lexer": "ipython3",
   "version": "3.11.3"
  }
 },
 "nbformat": 4,
 "nbformat_minor": 5
}
