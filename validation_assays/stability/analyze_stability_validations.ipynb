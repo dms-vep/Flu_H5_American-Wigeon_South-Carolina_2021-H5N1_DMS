{
 "cells": [
  {
   "cell_type": "markdown",
   "id": "00c48162-1754-44e3-95a2-f31db2c62df4",
   "metadata": {},
   "source": [
    "# Analyze HA stability validations\n",
    "Analyze validation experiments in which cells were infected with same amount of virus and infected into cells at different pHs."
   ]
  },
  {
   "cell_type": "code",
   "execution_count": 1,
   "id": "96fb9d96-70a9-48fa-b753-b51a2f7f769f",
   "metadata": {
    "execution": {
     "iopub.execute_input": "2024-04-27T14:19:20.831488Z",
     "iopub.status.busy": "2024-04-27T14:19:20.831058Z",
     "iopub.status.idle": "2024-04-27T14:19:24.198265Z",
     "shell.execute_reply": "2024-04-27T14:19:24.196933Z",
     "shell.execute_reply.started": "2024-04-27T14:19:20.831450Z"
    }
   },
   "outputs": [],
   "source": [
    "import altair as alt\n",
    "\n",
    "import numpy\n",
    "\n",
    "import pandas as pd"
   ]
  },
  {
   "cell_type": "markdown",
   "id": "1c3fd02b-be42-49eb-98bb-901db56d5db2",
   "metadata": {},
   "source": [
    "Read the validation data.\n",
    "We drop the first experiment since it has very high percent positive, too high to accurately estimate MOI (the three later experiments have more reasonable percent positive to apply Poisson formula to)."
   ]
  },
  {
   "cell_type": "code",
   "execution_count": 2,
   "id": "2f620630-f493-4e58-9c4f-4c7f4ad7b6a4",
   "metadata": {
    "execution": {
     "iopub.execute_input": "2024-04-27T14:19:24.210872Z",
     "iopub.status.busy": "2024-04-27T14:19:24.210262Z",
     "iopub.status.idle": "2024-04-27T14:19:25.155427Z",
     "shell.execute_reply": "2024-04-27T14:19:25.154491Z",
     "shell.execute_reply.started": "2024-04-27T14:19:24.210813Z"
    }
   },
   "outputs": [],
   "source": [
    "validation_data = (\n",
    "    pd.read_excel(\n",
    "        \"H5_fluPB1flank_HAstability_validations.xlsx\",\n",
    "        sheet_name=\"processed\",\n",
    "    )\n",
    "    .query(\"`HA variant`.notnull()\")\n",
    "    [[\"HA variant\", \"experiment\", \"percent positive\", \"pH\"]]\n",
    "    .assign(\n",
    "        MOI=lambda x: -numpy.log(1 - x[\"percent positive\"] / 100),\n",
    "        experiment=lambda x: x[\"experiment\"].astype(str) + \" experiment\",\n",
    "        **{\"HA variant\": lambda x: x[\"HA variant\"].str.replace(\"WT\", \"unmutated\")},\n",
    "    )\n",
    "    .query(\"experiment != '2024-04-10 experiment'\")\n",
    ")"
   ]
  },
  {
   "cell_type": "markdown",
   "id": "ff7568fd-6ae3-490b-8638-7a7b9088d8ed",
   "metadata": {
    "execution": {
     "iopub.execute_input": "2024-04-26T23:26:29.047212Z",
     "iopub.status.busy": "2024-04-26T23:26:29.046536Z",
     "iopub.status.idle": "2024-04-26T23:26:29.066872Z",
     "shell.execute_reply": "2024-04-26T23:26:29.066223Z",
     "shell.execute_reply.started": "2024-04-26T23:26:29.047153Z"
    }
   },
   "source": [
    "Read the DMS stability measurements and add to validation data:"
   ]
  },
  {
   "cell_type": "code",
   "execution_count": 3,
   "id": "1c07140e-1097-48dd-837c-97825914489b",
   "metadata": {
    "execution": {
     "iopub.execute_input": "2024-04-27T14:19:25.160339Z",
     "iopub.status.busy": "2024-04-27T14:19:25.160026Z",
     "iopub.status.idle": "2024-04-27T14:19:25.233492Z",
     "shell.execute_reply": "2024-04-27T14:19:25.232733Z",
     "shell.execute_reply.started": "2024-04-27T14:19:25.160310Z"
    }
   },
   "outputs": [],
   "source": [
    "dms_data = pd.read_csv(\"../../results/pH_stability/averages/pH_stability_mut_effect.csv\")\n",
    "\n",
    "validation_data = (\n",
    "    validation_data\n",
    "    .drop(columns=\"DMS effect\", errors=\"ignore\")\n",
    "    .merge(\n",
    "        dms_data.rename(\n",
    "            columns={\"mutation\": \"HA variant\", \"pH stability_median\": \"DMS effect\"}\n",
    "        )\n",
    "        [[\"HA variant\", \"DMS effect\"]],\n",
    "        how=\"left\",\n",
    "        on=\"HA variant\",\n",
    "        validate=\"many_to_one\",\n",
    "    )\n",
    "    .assign(\n",
    "        **{\"DMS effect\": lambda x: x[\"DMS effect\"].where(x[\"HA variant\"] != \"unmutated\", 0)},\n",
    "        labeled_variant=lambda x: x[\"HA variant\"] + \" (DMS effect: \" + x[\"DMS effect\"].map(lambda y: f\"{y:.1f}\") + \")\",\n",
    "    )\n",
    ")\n",
    "\n",
    "assert validation_data.notnull().all().all()"
   ]
  },
  {
   "cell_type": "markdown",
   "id": "54f63318-f1d1-44e0-824e-15b565caa120",
   "metadata": {},
   "source": [
    "Now plot the validations experiments with full data:"
   ]
  },
  {
   "cell_type": "code",
   "execution_count": 4,
   "id": "ee679680-1b01-46b4-8245-7e22d6a72801",
   "metadata": {
    "execution": {
     "iopub.execute_input": "2024-04-27T14:19:25.238232Z",
     "iopub.status.busy": "2024-04-27T14:19:25.237686Z",
     "iopub.status.idle": "2024-04-27T14:19:25.379819Z",
     "shell.execute_reply": "2024-04-27T14:19:25.379038Z",
     "shell.execute_reply.started": "2024-04-27T14:19:25.238194Z"
    }
   },
   "outputs": [
    {
     "data": {
      "text/html": [
       "\n",
       "<style>\n",
       "  #altair-viz-2d578d13fa6c47828b483497d2cbb3e1.vega-embed {\n",
       "    width: 100%;\n",
       "    display: flex;\n",
       "  }\n",
       "\n",
       "  #altair-viz-2d578d13fa6c47828b483497d2cbb3e1.vega-embed details,\n",
       "  #altair-viz-2d578d13fa6c47828b483497d2cbb3e1.vega-embed details summary {\n",
       "    position: relative;\n",
       "  }\n",
       "</style>\n",
       "<div id=\"altair-viz-2d578d13fa6c47828b483497d2cbb3e1\"></div>\n",
       "<script type=\"text/javascript\">\n",
       "  var VEGA_DEBUG = (typeof VEGA_DEBUG == \"undefined\") ? {} : VEGA_DEBUG;\n",
       "  (function(spec, embedOpt){\n",
       "    let outputDiv = document.currentScript.previousElementSibling;\n",
       "    if (outputDiv.id !== \"altair-viz-2d578d13fa6c47828b483497d2cbb3e1\") {\n",
       "      outputDiv = document.getElementById(\"altair-viz-2d578d13fa6c47828b483497d2cbb3e1\");\n",
       "    }\n",
       "    const paths = {\n",
       "      \"vega\": \"https://cdn.jsdelivr.net/npm/vega@5?noext\",\n",
       "      \"vega-lib\": \"https://cdn.jsdelivr.net/npm/vega-lib?noext\",\n",
       "      \"vega-lite\": \"https://cdn.jsdelivr.net/npm/vega-lite@5.16.3?noext\",\n",
       "      \"vega-embed\": \"https://cdn.jsdelivr.net/npm/vega-embed@6?noext\",\n",
       "    };\n",
       "\n",
       "    function maybeLoadScript(lib, version) {\n",
       "      var key = `${lib.replace(\"-\", \"\")}_version`;\n",
       "      return (VEGA_DEBUG[key] == version) ?\n",
       "        Promise.resolve(paths[lib]) :\n",
       "        new Promise(function(resolve, reject) {\n",
       "          var s = document.createElement('script');\n",
       "          document.getElementsByTagName(\"head\")[0].appendChild(s);\n",
       "          s.async = true;\n",
       "          s.onload = () => {\n",
       "            VEGA_DEBUG[key] = version;\n",
       "            return resolve(paths[lib]);\n",
       "          };\n",
       "          s.onerror = () => reject(`Error loading script: ${paths[lib]}`);\n",
       "          s.src = paths[lib];\n",
       "        });\n",
       "    }\n",
       "\n",
       "    function showError(err) {\n",
       "      outputDiv.innerHTML = `<div class=\"error\" style=\"color:red;\">${err}</div>`;\n",
       "      throw err;\n",
       "    }\n",
       "\n",
       "    function displayChart(vegaEmbed) {\n",
       "      vegaEmbed(outputDiv, spec, embedOpt)\n",
       "        .catch(err => showError(`Javascript Error: ${err.message}<br>This usually means there's a typo in your chart specification. See the javascript console for the full traceback.`));\n",
       "    }\n",
       "\n",
       "    if(typeof define === \"function\" && define.amd) {\n",
       "      requirejs.config({paths});\n",
       "      require([\"vega-embed\"], displayChart, err => showError(`Error loading script: ${err.message}`));\n",
       "    } else {\n",
       "      maybeLoadScript(\"vega\", \"5\")\n",
       "        .then(() => maybeLoadScript(\"vega-lite\", \"5.16.3\"))\n",
       "        .then(() => maybeLoadScript(\"vega-embed\", \"6\"))\n",
       "        .catch(showError)\n",
       "        .then(() => displayChart(vegaEmbed));\n",
       "    }\n",
       "  })({\"config\": {\"view\": {\"continuousWidth\": 300, \"continuousHeight\": 300}, \"axis\": {\"grid\": false}, \"point\": {\"size\": 50}}, \"data\": {\"name\": \"data-b367a4beb6306a0f12028a5385f59d25\"}, \"mark\": {\"type\": \"line\", \"opacity\": 0.7, \"point\": true, \"strokeWidth\": 1}, \"encoding\": {\"color\": {\"field\": \"labeled_variant\", \"scale\": {\"range\": [\"#E69F00\", \"#999999\", \"#56B4E9\", \"#009E73\", \"#F0E442\", \"#0072B2\", \"#D55E00\", \"#CC79A7\"]}, \"sort\": {\"field\": \"DMS effect\"}, \"title\": \"HA variant\", \"type\": \"nominal\"}, \"column\": {\"field\": \"experiment\", \"header\": {\"labelFontSize\": 11, \"labelFontStyle\": \"bold\", \"labelPadding\": 1}, \"spacing\": 5, \"title\": null, \"type\": \"nominal\"}, \"row\": {\"field\": \"measurement\", \"header\": {\"labelFontSize\": 11, \"labelFontStyle\": \"bold\", \"labelPadding\": 1}, \"spacing\": 5, \"title\": null, \"type\": \"nominal\"}, \"x\": {\"field\": \"pH\", \"sort\": \"descending\", \"type\": \"quantitative\"}, \"y\": {\"field\": \"value\", \"title\": null, \"type\": \"quantitative\"}}, \"height\": 110, \"resolve\": {\"scale\": {\"y\": \"independent\"}}, \"transform\": [{\"fold\": [\"percent cells infected\", \"viral titer per cell\"], \"as\": [\"measurement\", \"value\"]}], \"width\": 166, \"$schema\": \"https://vega.github.io/schema/vega-lite/v5.16.3.json\", \"datasets\": {\"data-b367a4beb6306a0f12028a5385f59d25\": [{\"HA variant\": \"E31K\", \"experiment\": \"2024-04-13 experiment\", \"percent cells infected\": 91.0, \"pH\": 6.9, \"viral titer per cell\": 2.4079456086518722, \"DMS effect\": 0.6975, \"labeled_variant\": \"E31K (DMS effect: 0.7)\"}, {\"HA variant\": \"E31K\", \"experiment\": \"2024-04-13 experiment\", \"percent cells infected\": 63.4, \"pH\": 5.7, \"viral titer per cell\": 1.0051219455807707, \"DMS effect\": 0.6975, \"labeled_variant\": \"E31K (DMS effect: 0.7)\"}, {\"HA variant\": \"E31K\", \"experiment\": \"2024-04-13 experiment\", \"percent cells infected\": 10.3, \"pH\": 5.5, \"viral titer per cell\": 0.10869941692334091, \"DMS effect\": 0.6975, \"labeled_variant\": \"E31K (DMS effect: 0.7)\"}, {\"HA variant\": \"E31K\", \"experiment\": \"2024-04-13 experiment\", \"percent cells infected\": 0.71, \"pH\": 5.3, \"viral titer per cell\": 0.007125324942588627, \"DMS effect\": 0.6975, \"labeled_variant\": \"E31K (DMS effect: 0.7)\"}, {\"HA variant\": \"I80V\", \"experiment\": \"2024-04-13 experiment\", \"percent cells infected\": 86.3, \"pH\": 6.9, \"viral titer per cell\": 1.987774353154012, \"DMS effect\": 0.685, \"labeled_variant\": \"I80V (DMS effect: 0.7)\"}, {\"HA variant\": \"I80V\", \"experiment\": \"2024-04-13 experiment\", \"percent cells infected\": 58.3, \"pH\": 5.7, \"viral titer per cell\": 0.8746690571833355, \"DMS effect\": 0.685, \"labeled_variant\": \"I80V (DMS effect: 0.7)\"}, {\"HA variant\": \"I80V\", \"experiment\": \"2024-04-13 experiment\", \"percent cells infected\": 19.1, \"pH\": 5.5, \"viral titer per cell\": 0.21195636192364545, \"DMS effect\": 0.685, \"labeled_variant\": \"I80V (DMS effect: 0.7)\"}, {\"HA variant\": \"I80V\", \"experiment\": \"2024-04-13 experiment\", \"percent cells infected\": 3.43, \"pH\": 5.3, \"viral titer per cell\": 0.034902052009264876, \"DMS effect\": 0.685, \"labeled_variant\": \"I80V (DMS effect: 0.7)\"}, {\"HA variant\": \"R81G\", \"experiment\": \"2024-04-13 experiment\", \"percent cells infected\": 27.0, \"pH\": 6.9, \"viral titer per cell\": 0.31471074483970024, \"DMS effect\": 1.144, \"labeled_variant\": \"R81G (DMS effect: 1.1)\"}, {\"HA variant\": \"R81G\", \"experiment\": \"2024-04-13 experiment\", \"percent cells infected\": 6.58, \"pH\": 5.7, \"viral titer per cell\": 0.06806473091412937, \"DMS effect\": 1.144, \"labeled_variant\": \"R81G (DMS effect: 1.1)\"}, {\"HA variant\": \"R81G\", \"experiment\": \"2024-04-13 experiment\", \"percent cells infected\": 1.63, \"pH\": 5.5, \"viral titer per cell\": 0.016434306463424773, \"DMS effect\": 1.144, \"labeled_variant\": \"R81G (DMS effect: 1.1)\"}, {\"HA variant\": \"R81G\", \"experiment\": \"2024-04-13 experiment\", \"percent cells infected\": 0.65, \"pH\": 5.3, \"viral titer per cell\": 0.006521216990265463, \"DMS effect\": 1.144, \"labeled_variant\": \"R81G (DMS effect: 1.1)\"}, {\"HA variant\": \"I406L\", \"experiment\": \"2024-04-13 experiment\", \"percent cells infected\": 89.5, \"pH\": 6.9, \"viral titer per cell\": 2.2537949288246137, \"DMS effect\": 0.9385, \"labeled_variant\": \"I406L (DMS effect: 0.9)\"}, {\"HA variant\": \"I406L\", \"experiment\": \"2024-04-13 experiment\", \"percent cells infected\": 80.8, \"pH\": 5.7, \"viral titer per cell\": 1.650259906954355, \"DMS effect\": 0.9385, \"labeled_variant\": \"I406L (DMS effect: 0.9)\"}, {\"HA variant\": \"I406L\", \"experiment\": \"2024-04-13 experiment\", \"percent cells infected\": 57.8, \"pH\": 5.5, \"viral titer per cell\": 0.8627499649461251, \"DMS effect\": 0.9385, \"labeled_variant\": \"I406L (DMS effect: 0.9)\"}, {\"HA variant\": \"I406L\", \"experiment\": \"2024-04-13 experiment\", \"percent cells infected\": 8.69, \"pH\": 5.3, \"viral titer per cell\": 0.0909098753598426, \"DMS effect\": 0.9385, \"labeled_variant\": \"I406L (DMS effect: 0.9)\"}, {\"HA variant\": \"unmutated\", \"experiment\": \"2024-04-13 experiment\", \"percent cells infected\": 71.0, \"pH\": 6.9, \"viral titer per cell\": 1.2378743560016172, \"DMS effect\": 0.0, \"labeled_variant\": \"unmutated (DMS effect: 0.0)\"}, {\"HA variant\": \"unmutated\", \"experiment\": \"2024-04-13 experiment\", \"percent cells infected\": 31.0, \"pH\": 5.7, \"viral titer per cell\": 0.37106368139083207, \"DMS effect\": 0.0, \"labeled_variant\": \"unmutated (DMS effect: 0.0)\"}, {\"HA variant\": \"unmutated\", \"experiment\": \"2024-04-13 experiment\", \"percent cells infected\": 3.05, \"pH\": 5.5, \"viral titer per cell\": 0.030974804299430524, \"DMS effect\": 0.0, \"labeled_variant\": \"unmutated (DMS effect: 0.0)\"}, {\"HA variant\": \"unmutated\", \"experiment\": \"2024-04-13 experiment\", \"percent cells infected\": 0.21, \"pH\": 5.3, \"viral titer per cell\": 0.0021022080918701985, \"DMS effect\": 0.0, \"labeled_variant\": \"unmutated (DMS effect: 0.0)\"}, {\"HA variant\": \"K262I\", \"experiment\": \"2024-04-13 experiment\", \"percent cells infected\": 43.0, \"pH\": 6.9, \"viral titer per cell\": 0.5621189181535411, \"DMS effect\": 2.41, \"labeled_variant\": \"K262I (DMS effect: 2.4)\"}, {\"HA variant\": \"K262I\", \"experiment\": \"2024-04-13 experiment\", \"percent cells infected\": 44.1, \"pH\": 5.7, \"viral titer per cell\": 0.5816058058270379, \"DMS effect\": 2.41, \"labeled_variant\": \"K262I (DMS effect: 2.4)\"}, {\"HA variant\": \"K262I\", \"experiment\": \"2024-04-13 experiment\", \"percent cells infected\": 40.6, \"pH\": 5.5, \"viral titer per cell\": 0.5208759596194922, \"DMS effect\": 2.41, \"labeled_variant\": \"K262I (DMS effect: 2.4)\"}, {\"HA variant\": \"K262I\", \"experiment\": \"2024-04-13 experiment\", \"percent cells infected\": 31.9, \"pH\": 5.3, \"viral titer per cell\": 0.38419297283262466, \"DMS effect\": 2.41, \"labeled_variant\": \"K262I (DMS effect: 2.4)\"}, {\"HA variant\": \"N446E\", \"experiment\": \"2024-04-13 experiment\", \"percent cells infected\": 83.2, \"pH\": 6.9, \"viral titer per cell\": 1.7837912995788785, \"DMS effect\": 1.863, \"labeled_variant\": \"N446E (DMS effect: 1.9)\"}, {\"HA variant\": \"N446E\", \"experiment\": \"2024-04-13 experiment\", \"percent cells infected\": 27.1, \"pH\": 5.7, \"viral titer per cell\": 0.3160815469734789, \"DMS effect\": 1.863, \"labeled_variant\": \"N446E (DMS effect: 1.9)\"}, {\"HA variant\": \"N446E\", \"experiment\": \"2024-04-13 experiment\", \"percent cells infected\": 20.6, \"pH\": 5.5, \"viral titer per cell\": 0.23067181773500128, \"DMS effect\": 1.863, \"labeled_variant\": \"N446E (DMS effect: 1.9)\"}, {\"HA variant\": \"N446E\", \"experiment\": \"2024-04-13 experiment\", \"percent cells infected\": 9.83, \"pH\": 5.3, \"viral titer per cell\": 0.1034734084762761, \"DMS effect\": 1.863, \"labeled_variant\": \"N446E (DMS effect: 1.9)\"}, {\"HA variant\": \"K280N\", \"experiment\": \"2024-04-13 experiment\", \"percent cells infected\": 83.1, \"pH\": 6.9, \"viral titer per cell\": 1.7778565640590633, \"DMS effect\": -0.3334, \"labeled_variant\": \"K280N (DMS effect: -0.3)\"}, {\"HA variant\": \"K280N\", \"experiment\": \"2024-04-13 experiment\", \"percent cells infected\": 17.0, \"pH\": 5.7, \"viral titer per cell\": 0.1863295781914935, \"DMS effect\": -0.3334, \"labeled_variant\": \"K280N (DMS effect: -0.3)\"}, {\"HA variant\": \"K280N\", \"experiment\": \"2024-04-13 experiment\", \"percent cells infected\": 0.98, \"pH\": 5.5, \"viral titer per cell\": 0.009848336054814406, \"DMS effect\": -0.3334, \"labeled_variant\": \"K280N (DMS effect: -0.3)\"}, {\"HA variant\": \"K280N\", \"experiment\": \"2024-04-13 experiment\", \"percent cells infected\": 0.054, \"pH\": 5.3, \"viral titer per cell\": 0.0005401458525092518, \"DMS effect\": -0.3334, \"labeled_variant\": \"K280N (DMS effect: -0.3)\"}, {\"HA variant\": \"E31K\", \"experiment\": \"2024-04-24 experiment\", \"percent cells infected\": 25.6, \"pH\": 6.9, \"viral titer per cell\": 0.2957142441490452, \"DMS effect\": 0.6975, \"labeled_variant\": \"E31K (DMS effect: 0.7)\"}, {\"HA variant\": \"E31K\", \"experiment\": \"2024-04-24 experiment\", \"percent cells infected\": 5.63, \"pH\": 5.7, \"viral titer per cell\": 0.057946959954849726, \"DMS effect\": 0.6975, \"labeled_variant\": \"E31K (DMS effect: 0.7)\"}, {\"HA variant\": \"E31K\", \"experiment\": \"2024-04-24 experiment\", \"percent cells infected\": 3.15, \"pH\": 5.5, \"viral titer per cell\": 0.03200679613508645, \"DMS effect\": 0.6975, \"labeled_variant\": \"E31K (DMS effect: 0.7)\"}, {\"HA variant\": \"E31K\", \"experiment\": \"2024-04-24 experiment\", \"percent cells infected\": 0.15, \"pH\": 5.3, \"viral titer per cell\": 0.0015011261262670914, \"DMS effect\": 0.6975, \"labeled_variant\": \"E31K (DMS effect: 0.7)\"}, {\"HA variant\": \"I80V\", \"experiment\": \"2024-04-24 experiment\", \"percent cells infected\": 25.7, \"pH\": 6.9, \"viral titer per cell\": 0.29705923426437786, \"DMS effect\": 0.685, \"labeled_variant\": \"I80V (DMS effect: 0.7)\"}, {\"HA variant\": \"I80V\", \"experiment\": \"2024-04-24 experiment\", \"percent cells infected\": 4.92, \"pH\": 5.7, \"viral titer per cell\": 0.05045154349609821, \"DMS effect\": 0.685, \"labeled_variant\": \"I80V (DMS effect: 0.7)\"}, {\"HA variant\": \"I80V\", \"experiment\": \"2024-04-24 experiment\", \"percent cells infected\": 1.72, \"pH\": 5.5, \"viral titer per cell\": 0.017349638335112993, \"DMS effect\": 0.685, \"labeled_variant\": \"I80V (DMS effect: 0.7)\"}, {\"HA variant\": \"I80V\", \"experiment\": \"2024-04-24 experiment\", \"percent cells infected\": 0.55, \"pH\": 5.3, \"viral titer per cell\": 0.005515180688110111, \"DMS effect\": 0.685, \"labeled_variant\": \"I80V (DMS effect: 0.7)\"}, {\"HA variant\": \"R81G\", \"experiment\": \"2024-04-24 experiment\", \"percent cells infected\": 6.71, \"pH\": 6.9, \"viral titer per cell\": 0.06945726501522163, \"DMS effect\": 1.144, \"labeled_variant\": \"R81G (DMS effect: 1.1)\"}, {\"HA variant\": \"R81G\", \"experiment\": \"2024-04-24 experiment\", \"percent cells infected\": 3.3, \"pH\": 5.7, \"viral titer per cell\": 0.033556783528842754, \"DMS effect\": 1.144, \"labeled_variant\": \"R81G (DMS effect: 1.1)\"}, {\"HA variant\": \"R81G\", \"experiment\": \"2024-04-24 experiment\", \"percent cells infected\": 1.16, \"pH\": 5.5, \"viral titer per cell\": 0.0116678048676821, \"DMS effect\": 1.144, \"labeled_variant\": \"R81G (DMS effect: 1.1)\"}, {\"HA variant\": \"R81G\", \"experiment\": \"2024-04-24 experiment\", \"percent cells infected\": 0.61, \"pH\": 5.3, \"viral titer per cell\": 0.006118681008177177, \"DMS effect\": 1.144, \"labeled_variant\": \"R81G (DMS effect: 1.1)\"}, {\"HA variant\": \"I406L\", \"experiment\": \"2024-04-24 experiment\", \"percent cells infected\": 16.2, \"pH\": 6.9, \"viral titer per cell\": 0.17673717850005405, \"DMS effect\": 0.9385, \"labeled_variant\": \"I406L (DMS effect: 0.9)\"}, {\"HA variant\": \"I406L\", \"experiment\": \"2024-04-24 experiment\", \"percent cells infected\": 14.5, \"pH\": 5.7, \"viral titer per cell\": 0.15665381004537687, \"DMS effect\": 0.9385, \"labeled_variant\": \"I406L (DMS effect: 0.9)\"}, {\"HA variant\": \"I406L\", \"experiment\": \"2024-04-24 experiment\", \"percent cells infected\": 11.1, \"pH\": 5.5, \"viral titer per cell\": 0.11765804346823246, \"DMS effect\": 0.9385, \"labeled_variant\": \"I406L (DMS effect: 0.9)\"}, {\"HA variant\": \"I406L\", \"experiment\": \"2024-04-24 experiment\", \"percent cells infected\": 2.3, \"pH\": 5.3, \"viral titer per cell\": 0.02326862693935433, \"DMS effect\": 0.9385, \"labeled_variant\": \"I406L (DMS effect: 0.9)\"}, {\"HA variant\": \"unmutated\", \"experiment\": \"2024-04-24 experiment\", \"percent cells infected\": 23.8, \"pH\": 6.9, \"viral titer per cell\": 0.2718087232954908, \"DMS effect\": 0.0, \"labeled_variant\": \"unmutated (DMS effect: 0.0)\"}, {\"HA variant\": \"unmutated\", \"experiment\": \"2024-04-24 experiment\", \"percent cells infected\": 3.37, \"pH\": 5.7, \"viral titer per cell\": 0.034280933976874164, \"DMS effect\": 0.0, \"labeled_variant\": \"unmutated (DMS effect: 0.0)\"}, {\"HA variant\": \"unmutated\", \"experiment\": \"2024-04-24 experiment\", \"percent cells infected\": 0.68, \"pH\": 5.5, \"viral titer per cell\": 0.006823225348125537, \"DMS effect\": 0.0, \"labeled_variant\": \"unmutated (DMS effect: 0.0)\"}, {\"HA variant\": \"unmutated\", \"experiment\": \"2024-04-24 experiment\", \"percent cells infected\": 0.061, \"pH\": 5.3, \"viral titer per cell\": 0.0006101861256949643, \"DMS effect\": 0.0, \"labeled_variant\": \"unmutated (DMS effect: 0.0)\"}, {\"HA variant\": \"K262I\", \"experiment\": \"2024-04-24 experiment\", \"percent cells infected\": 33.0, \"pH\": 6.9, \"viral titer per cell\": 0.4004775665971254, \"DMS effect\": 2.41, \"labeled_variant\": \"K262I (DMS effect: 2.4)\"}, {\"HA variant\": \"K262I\", \"experiment\": \"2024-04-24 experiment\", \"percent cells infected\": 31.2, \"pH\": 5.7, \"viral titer per cell\": 0.3739664410487935, \"DMS effect\": 2.41, \"labeled_variant\": \"K262I (DMS effect: 2.4)\"}, {\"HA variant\": \"K262I\", \"experiment\": \"2024-04-24 experiment\", \"percent cells infected\": 28.8, \"pH\": 5.5, \"viral titer per cell\": 0.3396773675701613, \"DMS effect\": 2.41, \"labeled_variant\": \"K262I (DMS effect: 2.4)\"}, {\"HA variant\": \"K262I\", \"experiment\": \"2024-04-24 experiment\", \"percent cells infected\": 23.9, \"pH\": 5.3, \"viral titer per cell\": 0.2731219211204512, \"DMS effect\": 2.41, \"labeled_variant\": \"K262I (DMS effect: 2.4)\"}, {\"HA variant\": \"N446E\", \"experiment\": \"2024-04-24 experiment\", \"percent cells infected\": 18.6, \"pH\": 6.9, \"viral titer per cell\": 0.20579491297959684, \"DMS effect\": 1.863, \"labeled_variant\": \"N446E (DMS effect: 1.9)\"}, {\"HA variant\": \"N446E\", \"experiment\": \"2024-04-24 experiment\", \"percent cells infected\": 3.53, \"pH\": 5.7, \"viral titer per cell\": 0.035938106805629144, \"DMS effect\": 1.863, \"labeled_variant\": \"N446E (DMS effect: 1.9)\"}, {\"HA variant\": \"N446E\", \"experiment\": \"2024-04-24 experiment\", \"percent cells infected\": 1.86, \"pH\": 5.5, \"viral titer per cell\": 0.01877515532633398, \"DMS effect\": 1.863, \"labeled_variant\": \"N446E (DMS effect: 1.9)\"}, {\"HA variant\": \"N446E\", \"experiment\": \"2024-04-24 experiment\", \"percent cells infected\": 0.94, \"pH\": 5.3, \"viral titer per cell\": 0.009444458827999689, \"DMS effect\": 1.863, \"labeled_variant\": \"N446E (DMS effect: 1.9)\"}, {\"HA variant\": \"K280N\", \"experiment\": \"2024-04-24 experiment\", \"percent cells infected\": 27.0, \"pH\": 6.9, \"viral titer per cell\": 0.31471074483970024, \"DMS effect\": -0.3334, \"labeled_variant\": \"K280N (DMS effect: -0.3)\"}, {\"HA variant\": \"K280N\", \"experiment\": \"2024-04-24 experiment\", \"percent cells infected\": 2.25, \"pH\": 5.7, \"viral titer per cell\": 0.02275698712261618, \"DMS effect\": -0.3334, \"labeled_variant\": \"K280N (DMS effect: -0.3)\"}, {\"HA variant\": \"K280N\", \"experiment\": \"2024-04-24 experiment\", \"percent cells infected\": 0.26, \"pH\": 5.5, \"viral titer per cell\": 0.0026033858701149278, \"DMS effect\": -0.3334, \"labeled_variant\": \"K280N (DMS effect: -0.3)\"}, {\"HA variant\": \"K280N\", \"experiment\": \"2024-04-24 experiment\", \"percent cells infected\": 0.013, \"pH\": 5.3, \"viral titer per cell\": 0.0001300084507323682, \"DMS effect\": -0.3334, \"labeled_variant\": \"K280N (DMS effect: -0.3)\"}, {\"HA variant\": \"E31K\", \"experiment\": \"2024-04-26 experiment\", \"percent cells infected\": 82.3, \"pH\": 6.9, \"viral titer per cell\": 1.7316055464083075, \"DMS effect\": 0.6975, \"labeled_variant\": \"E31K (DMS effect: 0.7)\"}, {\"HA variant\": \"E31K\", \"experiment\": \"2024-04-26 experiment\", \"percent cells infected\": 51.0, \"pH\": 5.7, \"viral titer per cell\": 0.7133498878774648, \"DMS effect\": 0.6975, \"labeled_variant\": \"E31K (DMS effect: 0.7)\"}, {\"HA variant\": \"E31K\", \"experiment\": \"2024-04-26 experiment\", \"percent cells infected\": 25.1, \"pH\": 5.5, \"viral titer per cell\": 0.2890162954649176, \"DMS effect\": 0.6975, \"labeled_variant\": \"E31K (DMS effect: 0.7)\"}, {\"HA variant\": \"E31K\", \"experiment\": \"2024-04-26 experiment\", \"percent cells infected\": 1.57, \"pH\": 5.3, \"viral titer per cell\": 0.01582455034697146, \"DMS effect\": 0.6975, \"labeled_variant\": \"E31K (DMS effect: 0.7)\"}, {\"HA variant\": \"I80V\", \"experiment\": \"2024-04-26 experiment\", \"percent cells infected\": 73.6, \"pH\": 6.9, \"viral titer per cell\": 1.3318061758358208, \"DMS effect\": 0.685, \"labeled_variant\": \"I80V (DMS effect: 0.7)\"}, {\"HA variant\": \"I80V\", \"experiment\": \"2024-04-26 experiment\", \"percent cells infected\": 61.4, \"pH\": 5.7, \"viral titer per cell\": 0.9519179095173061, \"DMS effect\": 0.685, \"labeled_variant\": \"I80V (DMS effect: 0.7)\"}, {\"HA variant\": \"I80V\", \"experiment\": \"2024-04-26 experiment\", \"percent cells infected\": 13.3, \"pH\": 5.5, \"viral titer per cell\": 0.1427163022015952, \"DMS effect\": 0.685, \"labeled_variant\": \"I80V (DMS effect: 0.7)\"}, {\"HA variant\": \"I80V\", \"experiment\": \"2024-04-26 experiment\", \"percent cells infected\": 4.97, \"pH\": 5.3, \"viral titer per cell\": 0.050977554764867455, \"DMS effect\": 0.685, \"labeled_variant\": \"I80V (DMS effect: 0.7)\"}, {\"HA variant\": \"R81G\", \"experiment\": \"2024-04-26 experiment\", \"percent cells infected\": 34.3, \"pH\": 6.9, \"viral titer per cell\": 0.4200712604975265, \"DMS effect\": 1.144, \"labeled_variant\": \"R81G (DMS effect: 1.1)\"}, {\"HA variant\": \"R81G\", \"experiment\": \"2024-04-26 experiment\", \"percent cells infected\": 19.7, \"pH\": 5.7, \"viral titer per cell\": 0.21940056503537533, \"DMS effect\": 1.144, \"labeled_variant\": \"R81G (DMS effect: 1.1)\"}, {\"HA variant\": \"R81G\", \"experiment\": \"2024-04-26 experiment\", \"percent cells infected\": 7.25, \"pH\": 5.5, \"viral titer per cell\": 0.07526248450054686, \"DMS effect\": 1.144, \"labeled_variant\": \"R81G (DMS effect: 1.1)\"}, {\"HA variant\": \"R81G\", \"experiment\": \"2024-04-26 experiment\", \"percent cells infected\": 0.15, \"pH\": 5.3, \"viral titer per cell\": 0.0015011261262670914, \"DMS effect\": 1.144, \"labeled_variant\": \"R81G (DMS effect: 1.1)\"}, {\"HA variant\": \"I406L\", \"experiment\": \"2024-04-26 experiment\", \"percent cells infected\": 91.2, \"pH\": 6.9, \"viral titer per cell\": 2.430418464503931, \"DMS effect\": 0.9385, \"labeled_variant\": \"I406L (DMS effect: 0.9)\"}, {\"HA variant\": \"I406L\", \"experiment\": \"2024-04-26 experiment\", \"percent cells infected\": 86.0, \"pH\": 5.7, \"viral titer per cell\": 1.9661128563728325, \"DMS effect\": 0.9385, \"labeled_variant\": \"I406L (DMS effect: 0.9)\"}, {\"HA variant\": \"I406L\", \"experiment\": \"2024-04-26 experiment\", \"percent cells infected\": 74.7, \"pH\": 5.5, \"viral titer per cell\": 1.3743657902546167, \"DMS effect\": 0.9385, \"labeled_variant\": \"I406L (DMS effect: 0.9)\"}, {\"HA variant\": \"I406L\", \"experiment\": \"2024-04-26 experiment\", \"percent cells infected\": 10.9, \"pH\": 5.3, \"viral titer per cell\": 0.11541085151132773, \"DMS effect\": 0.9385, \"labeled_variant\": \"I406L (DMS effect: 0.9)\"}, {\"HA variant\": \"unmutated\", \"experiment\": \"2024-04-26 experiment\", \"percent cells infected\": 68.5, \"pH\": 6.9, \"viral titer per cell\": 1.1551826401565042, \"DMS effect\": 0.0, \"labeled_variant\": \"unmutated (DMS effect: 0.0)\"}, {\"HA variant\": \"unmutated\", \"experiment\": \"2024-04-26 experiment\", \"percent cells infected\": 21.5, \"pH\": 5.7, \"viral titer per cell\": 0.24207156119972859, \"DMS effect\": 0.0, \"labeled_variant\": \"unmutated (DMS effect: 0.0)\"}, {\"HA variant\": \"unmutated\", \"experiment\": \"2024-04-26 experiment\", \"percent cells infected\": 2.12, \"pH\": 5.5, \"viral titer per cell\": 0.02142794741362045, \"DMS effect\": 0.0, \"labeled_variant\": \"unmutated (DMS effect: 0.0)\"}, {\"HA variant\": \"unmutated\", \"experiment\": \"2024-04-26 experiment\", \"percent cells infected\": 0.29, \"pH\": 5.3, \"viral titer per cell\": 0.002904213147389827, \"DMS effect\": 0.0, \"labeled_variant\": \"unmutated (DMS effect: 0.0)\"}, {\"HA variant\": \"K262I\", \"experiment\": \"2024-04-26 experiment\", \"percent cells infected\": 37.1, \"pH\": 6.9, \"viral titer per cell\": 0.4636240222816965, \"DMS effect\": 2.41, \"labeled_variant\": \"K262I (DMS effect: 2.4)\"}, {\"HA variant\": \"K262I\", \"experiment\": \"2024-04-26 experiment\", \"percent cells infected\": 43.1, \"pH\": 5.7, \"viral titer per cell\": 0.5638748448558062, \"DMS effect\": 2.41, \"labeled_variant\": \"K262I (DMS effect: 2.4)\"}, {\"HA variant\": \"K262I\", \"experiment\": \"2024-04-26 experiment\", \"percent cells infected\": 42.1, \"pH\": 5.5, \"viral titer per cell\": 0.5464528014091419, \"DMS effect\": 2.41, \"labeled_variant\": \"K262I (DMS effect: 2.4)\"}, {\"HA variant\": \"K262I\", \"experiment\": \"2024-04-26 experiment\", \"percent cells infected\": 36.7, \"pH\": 5.3, \"viral titer per cell\": 0.45728485683796083, \"DMS effect\": 2.41, \"labeled_variant\": \"K262I (DMS effect: 2.4)\"}, {\"HA variant\": \"N446E\", \"experiment\": \"2024-04-26 experiment\", \"percent cells infected\": 81.4, \"pH\": 6.9, \"viral titer per cell\": 1.682008605268936, \"DMS effect\": 1.863, \"labeled_variant\": \"N446E (DMS effect: 1.9)\"}, {\"HA variant\": \"N446E\", \"experiment\": \"2024-04-26 experiment\", \"percent cells infected\": 68.7, \"pH\": 5.7, \"viral titer per cell\": 1.1615520884419839, \"DMS effect\": 1.863, \"labeled_variant\": \"N446E (DMS effect: 1.9)\"}, {\"HA variant\": \"N446E\", \"experiment\": \"2024-04-26 experiment\", \"percent cells infected\": 39.3, \"pH\": 5.5, \"viral titer per cell\": 0.4992264879226388, \"DMS effect\": 1.863, \"labeled_variant\": \"N446E (DMS effect: 1.9)\"}, {\"HA variant\": \"N446E\", \"experiment\": \"2024-04-26 experiment\", \"percent cells infected\": 25.9, \"pH\": 5.3, \"viral titer per cell\": 0.29975465368605014, \"DMS effect\": 1.863, \"labeled_variant\": \"N446E (DMS effect: 1.9)\"}, {\"HA variant\": \"K280N\", \"experiment\": \"2024-04-26 experiment\", \"percent cells infected\": 76.5, \"pH\": 6.9, \"viral titer per cell\": 1.448169764837978, \"DMS effect\": -0.3334, \"labeled_variant\": \"K280N (DMS effect: -0.3)\"}, {\"HA variant\": \"K280N\", \"experiment\": \"2024-04-26 experiment\", \"percent cells infected\": 24.3, \"pH\": 5.7, \"viral titer per cell\": 0.2783920255446883, \"DMS effect\": -0.3334, \"labeled_variant\": \"K280N (DMS effect: -0.3)\"}, {\"HA variant\": \"K280N\", \"experiment\": \"2024-04-26 experiment\", \"percent cells infected\": 4.37, \"pH\": 5.5, \"viral titer per cell\": 0.04468360762664002, \"DMS effect\": -0.3334, \"labeled_variant\": \"K280N (DMS effect: -0.3)\"}, {\"HA variant\": \"K280N\", \"experiment\": \"2024-04-26 experiment\", \"percent cells infected\": 0.17, \"pH\": 5.3, \"viral titer per cell\": 0.0017014466397575702, \"DMS effect\": -0.3334, \"labeled_variant\": \"K280N (DMS effect: -0.3)\"}]}}, {\"mode\": \"vega-lite\"});\n",
       "</script>"
      ],
      "text/plain": [
       "alt.Chart(...)"
      ]
     },
     "execution_count": 4,
     "metadata": {},
     "output_type": "execute_result"
    }
   ],
   "source": [
    "color_range = [\"#E69F00\", \"#999999\", \"#56B4E9\", \"#009E73\", \"#F0E442\", \"#0072B2\", \"#D55E00\", \"#CC79A7\"]\n",
    "\n",
    "validation_chart = (\n",
    "    alt.Chart(\n",
    "        validation_data.rename(\n",
    "            columns={\"MOI\": \"viral titer per cell\", \"percent positive\": \"percent cells infected\"}\n",
    "        )\n",
    "    )\n",
    "    .transform_fold([\"percent cells infected\", \"viral titer per cell\"], [\"measurement\", \"value\"])\n",
    "    .encode(\n",
    "        alt.X(\"pH\", sort=\"descending\"),\n",
    "        alt.Y(\"value:Q\", title=None),\n",
    "        alt.Color(\"labeled_variant\", title=\"HA variant\", sort=alt.SortField(\"DMS effect\"), scale=alt.Scale(range=color_range)),\n",
    "        alt.Column(\"experiment\", title=None,header=alt.Header(labelFontStyle=\"bold\", labelPadding=1, labelFontSize=11), spacing=5),\n",
    "        alt.Row(\"measurement:N\", title=None, header=alt.Header(labelFontStyle=\"bold\", labelPadding=1, labelFontSize=11), spacing=5)\n",
    "    )\n",
    "    .mark_line(point=True, strokeWidth=1, opacity=0.7)\n",
    "    .resolve_scale(y=\"independent\")\n",
    "    .properties(height=110, width=166)\n",
    "    .configure_axis(grid=False)\n",
    "    .configure_point(size=50)\n",
    ")\n",
    "\n",
    "validation_chart.save(\"validation_chart.html\")\n",
    "\n",
    "validation_chart"
   ]
  },
  {
   "cell_type": "markdown",
   "id": "2e0d7a51-856c-4396-9982-e3e70dd48cc4",
   "metadata": {},
   "source": [
    "Now compute viral titer per cell at the two lowest pHs (5.3 and 5.5) versus 6.9.\n",
    "We do not use the pH 5.7 data as that is not low enough pH to strongly inactivate HA:"
   ]
  },
  {
   "cell_type": "code",
   "execution_count": 5,
   "id": "dcd20908-df24-465c-9453-4d215cf70d1c",
   "metadata": {
    "execution": {
     "iopub.execute_input": "2024-04-27T14:19:25.384467Z",
     "iopub.status.busy": "2024-04-27T14:19:25.384125Z",
     "iopub.status.idle": "2024-04-27T14:19:25.409340Z",
     "shell.execute_reply": "2024-04-27T14:19:25.408498Z",
     "shell.execute_reply.started": "2024-04-27T14:19:25.384438Z"
    }
   },
   "outputs": [],
   "source": [
    "pHs = sorted(validation_data[\"pH\"].unique().tolist())\n",
    "top_pH = pHs[-1]\n",
    "lower_pHs = pHs[: -2]\n",
    "\n",
    "titer_data = (\n",
    "    validation_data\n",
    "    .pivot_table(\n",
    "        index=[\"HA variant\", \"experiment\", \"DMS effect\"],\n",
    "        values=\"MOI\",\n",
    "        columns=\"pH\",\n",
    "    )\n",
    "    .reset_index()\n",
    "    .melt(\n",
    "        id_vars=[\"HA variant\", \"experiment\", \"DMS effect\", top_pH],\n",
    "        value_vars=lower_pHs,\n",
    "        value_name=\"MOI_at_pH\",\n",
    "    )\n",
    "    .assign(\n",
    "        frac_infectivity_retained=lambda x: x[\"MOI_at_pH\"] / x[top_pH],\n",
    "        pH=lambda x: \"infectivity retained at pH \" + x[\"pH\"].astype(str),\n",
    "    )\n",
    "    .drop(columns=6.9)\n",
    ")"
   ]
  },
  {
   "cell_type": "markdown",
   "id": "4d90e9a0-4f60-4e4e-a582-26af15e109ad",
   "metadata": {},
   "source": [
    "Now plot these titer data:"
   ]
  },
  {
   "cell_type": "code",
   "execution_count": 6,
   "id": "9269996c-cb91-4b92-8014-0d76d932afb0",
   "metadata": {
    "execution": {
     "iopub.execute_input": "2024-04-27T14:19:25.413330Z",
     "iopub.status.busy": "2024-04-27T14:19:25.413084Z",
     "iopub.status.idle": "2024-04-27T14:19:25.643726Z",
     "shell.execute_reply": "2024-04-27T14:19:25.642972Z",
     "shell.execute_reply.started": "2024-04-27T14:19:25.413302Z"
    }
   },
   "outputs": [
    {
     "data": {
      "text/html": [
       "\n",
       "<style>\n",
       "  #altair-viz-9fc84f40d7c54e98afbcc5be4b4183e0.vega-embed {\n",
       "    width: 100%;\n",
       "    display: flex;\n",
       "  }\n",
       "\n",
       "  #altair-viz-9fc84f40d7c54e98afbcc5be4b4183e0.vega-embed details,\n",
       "  #altair-viz-9fc84f40d7c54e98afbcc5be4b4183e0.vega-embed details summary {\n",
       "    position: relative;\n",
       "  }\n",
       "</style>\n",
       "<div id=\"altair-viz-9fc84f40d7c54e98afbcc5be4b4183e0\"></div>\n",
       "<script type=\"text/javascript\">\n",
       "  var VEGA_DEBUG = (typeof VEGA_DEBUG == \"undefined\") ? {} : VEGA_DEBUG;\n",
       "  (function(spec, embedOpt){\n",
       "    let outputDiv = document.currentScript.previousElementSibling;\n",
       "    if (outputDiv.id !== \"altair-viz-9fc84f40d7c54e98afbcc5be4b4183e0\") {\n",
       "      outputDiv = document.getElementById(\"altair-viz-9fc84f40d7c54e98afbcc5be4b4183e0\");\n",
       "    }\n",
       "    const paths = {\n",
       "      \"vega\": \"https://cdn.jsdelivr.net/npm/vega@5?noext\",\n",
       "      \"vega-lib\": \"https://cdn.jsdelivr.net/npm/vega-lib?noext\",\n",
       "      \"vega-lite\": \"https://cdn.jsdelivr.net/npm/vega-lite@5.16.3?noext\",\n",
       "      \"vega-embed\": \"https://cdn.jsdelivr.net/npm/vega-embed@6?noext\",\n",
       "    };\n",
       "\n",
       "    function maybeLoadScript(lib, version) {\n",
       "      var key = `${lib.replace(\"-\", \"\")}_version`;\n",
       "      return (VEGA_DEBUG[key] == version) ?\n",
       "        Promise.resolve(paths[lib]) :\n",
       "        new Promise(function(resolve, reject) {\n",
       "          var s = document.createElement('script');\n",
       "          document.getElementsByTagName(\"head\")[0].appendChild(s);\n",
       "          s.async = true;\n",
       "          s.onload = () => {\n",
       "            VEGA_DEBUG[key] = version;\n",
       "            return resolve(paths[lib]);\n",
       "          };\n",
       "          s.onerror = () => reject(`Error loading script: ${paths[lib]}`);\n",
       "          s.src = paths[lib];\n",
       "        });\n",
       "    }\n",
       "\n",
       "    function showError(err) {\n",
       "      outputDiv.innerHTML = `<div class=\"error\" style=\"color:red;\">${err}</div>`;\n",
       "      throw err;\n",
       "    }\n",
       "\n",
       "    function displayChart(vegaEmbed) {\n",
       "      vegaEmbed(outputDiv, spec, embedOpt)\n",
       "        .catch(err => showError(`Javascript Error: ${err.message}<br>This usually means there's a typo in your chart specification. See the javascript console for the full traceback.`));\n",
       "    }\n",
       "\n",
       "    if(typeof define === \"function\" && define.amd) {\n",
       "      requirejs.config({paths});\n",
       "      require([\"vega-embed\"], displayChart, err => showError(`Error loading script: ${err.message}`));\n",
       "    } else {\n",
       "      maybeLoadScript(\"vega\", \"5\")\n",
       "        .then(() => maybeLoadScript(\"vega-lite\", \"5.16.3\"))\n",
       "        .then(() => maybeLoadScript(\"vega-embed\", \"6\"))\n",
       "        .catch(showError)\n",
       "        .then(() => displayChart(vegaEmbed));\n",
       "    }\n",
       "  })({\"config\": {\"view\": {\"continuousWidth\": 300, \"continuousHeight\": 300}, \"axis\": {\"grid\": false}}, \"data\": {\"name\": \"data-3879047160c8a853259c971e96944d78\"}, \"facet\": {\"column\": {\"field\": \"experiment\", \"header\": {\"labelFontSize\": 11, \"labelFontStyle\": \"bold\", \"labelPadding\": 3}, \"title\": null, \"type\": \"nominal\"}, \"row\": {\"field\": \"pH\", \"header\": {\"labelFontSize\": 11, \"labelFontStyle\": \"bold\", \"labelPadding\": 1}, \"title\": null, \"type\": \"nominal\"}}, \"spec\": {\"layer\": [{\"mark\": {\"type\": \"point\", \"filled\": true, \"opacity\": 1, \"size\": 70}, \"encoding\": {\"color\": {\"field\": \"HA variant\", \"legend\": null, \"scale\": {\"range\": [\"#E69F00\", \"#999999\", \"#56B4E9\", \"#009E73\", \"#F0E442\", \"#0072B2\", \"#D55E00\", \"#CC79A7\"]}, \"sort\": {\"field\": \"DMS effect\"}, \"type\": \"nominal\"}, \"x\": {\"field\": \"DMS effect\", \"scale\": {\"nice\": false, \"padding\": 14}, \"title\": \"stability effect in DMS\", \"type\": \"quantitative\"}, \"y\": {\"field\": \"frac_infectivity_retained\", \"scale\": {\"nice\": false, \"padding\": 14, \"type\": \"log\"}, \"title\": null, \"type\": \"quantitative\"}}}, {\"mark\": {\"type\": \"text\", \"dx\": 2, \"dy\": 8, \"size\": 9}, \"encoding\": {\"color\": {\"field\": \"HA variant\", \"legend\": null, \"scale\": {\"range\": [\"#E69F00\", \"#999999\", \"#56B4E9\", \"#009E73\", \"#F0E442\", \"#0072B2\", \"#D55E00\", \"#CC79A7\"]}, \"sort\": {\"field\": \"DMS effect\"}, \"type\": \"nominal\"}, \"text\": {\"field\": \"HA variant\", \"type\": \"nominal\"}, \"x\": {\"field\": \"DMS effect\", \"scale\": {\"nice\": false, \"padding\": 14}, \"title\": \"stability effect in DMS\", \"type\": \"quantitative\"}, \"y\": {\"field\": \"frac_infectivity_retained\", \"scale\": {\"nice\": false, \"padding\": 14, \"type\": \"log\"}, \"title\": null, \"type\": \"quantitative\"}}}, {\"mark\": {\"type\": \"text\", \"align\": \"left\", \"fontSize\": 12, \"opacity\": 1}, \"encoding\": {\"color\": {\"value\": \"black\"}, \"text\": {\"field\": \"label\", \"type\": \"nominal\"}, \"x\": {\"value\": 5}, \"y\": {\"value\": 10}}, \"transform\": [{\"on\": \"DMS effect\", \"regression\": \"frac_infectivity_retained\", \"params\": true}, {\"calculate\": \"if((datum['coef'][1] >= 0),sqrt(datum['rSquared']),(-sqrt(datum['rSquared'])))\", \"as\": \"r\"}, {\"calculate\": \"\\\"r = \\\" + format(datum.r, \\\".2f\\\")\", \"as\": \"label\"}]}], \"height\": 165, \"width\": 165}, \"resolve\": {\"scale\": {\"y\": \"independent\"}}, \"spacing\": 5, \"$schema\": \"https://vega.github.io/schema/vega-lite/v5.16.3.json\", \"datasets\": {\"data-3879047160c8a853259c971e96944d78\": [{\"HA variant\": \"E31K\", \"experiment\": \"2024-04-13 experiment\", \"DMS effect\": 0.6975, \"pH\": \"infectivity retained at pH 5.3\", \"MOI_at_pH\": 0.007125324942588627, \"frac_infectivity_retained\": 0.002959088825340144}, {\"HA variant\": \"E31K\", \"experiment\": \"2024-04-24 experiment\", \"DMS effect\": 0.6975, \"pH\": \"infectivity retained at pH 5.3\", \"MOI_at_pH\": 0.0015011261262670914, \"frac_infectivity_retained\": 0.005076272638089416}, {\"HA variant\": \"E31K\", \"experiment\": \"2024-04-26 experiment\", \"DMS effect\": 0.6975, \"pH\": \"infectivity retained at pH 5.3\", \"MOI_at_pH\": 0.01582455034697146, \"frac_infectivity_retained\": 0.0091386576924489}, {\"HA variant\": \"I406L\", \"experiment\": \"2024-04-13 experiment\", \"DMS effect\": 0.9385, \"pH\": \"infectivity retained at pH 5.3\", \"MOI_at_pH\": 0.0909098753598426, \"frac_infectivity_retained\": 0.04033635633711067}, {\"HA variant\": \"I406L\", \"experiment\": \"2024-04-24 experiment\", \"DMS effect\": 0.9385, \"pH\": \"infectivity retained at pH 5.3\", \"MOI_at_pH\": 0.02326862693935433, \"frac_infectivity_retained\": 0.13165666181180558}, {\"HA variant\": \"I406L\", \"experiment\": \"2024-04-26 experiment\", \"DMS effect\": 0.9385, \"pH\": \"infectivity retained at pH 5.3\", \"MOI_at_pH\": 0.11541085151132773, \"frac_infectivity_retained\": 0.047486000125860656}, {\"HA variant\": \"I80V\", \"experiment\": \"2024-04-13 experiment\", \"DMS effect\": 0.685, \"pH\": \"infectivity retained at pH 5.3\", \"MOI_at_pH\": 0.034902052009264876, \"frac_infectivity_retained\": 0.0175583571414359}, {\"HA variant\": \"I80V\", \"experiment\": \"2024-04-24 experiment\", \"DMS effect\": 0.685, \"pH\": \"infectivity retained at pH 5.3\", \"MOI_at_pH\": 0.005515180688110111, \"frac_infectivity_retained\": 0.01856592912106442}, {\"HA variant\": \"I80V\", \"experiment\": \"2024-04-26 experiment\", \"DMS effect\": 0.685, \"pH\": \"infectivity retained at pH 5.3\", \"MOI_at_pH\": 0.050977554764867455, \"frac_infectivity_retained\": 0.03827700733770418}, {\"HA variant\": \"K262I\", \"experiment\": \"2024-04-13 experiment\", \"DMS effect\": 2.41, \"pH\": \"infectivity retained at pH 5.3\", \"MOI_at_pH\": 0.38419297283262466, \"frac_infectivity_retained\": 0.6834727678168688}, {\"HA variant\": \"K262I\", \"experiment\": \"2024-04-24 experiment\", \"DMS effect\": 2.41, \"pH\": \"infectivity retained at pH 5.3\", \"MOI_at_pH\": 0.2731219211204512, \"frac_infectivity_retained\": 0.6819905630199953}, {\"HA variant\": \"K262I\", \"experiment\": \"2024-04-26 experiment\", \"DMS effect\": 2.41, \"pH\": \"infectivity retained at pH 5.3\", \"MOI_at_pH\": 0.45728485683796083, \"frac_infectivity_retained\": 0.9863269262612021}, {\"HA variant\": \"K280N\", \"experiment\": \"2024-04-13 experiment\", \"DMS effect\": -0.3334, \"pH\": \"infectivity retained at pH 5.3\", \"MOI_at_pH\": 0.0005401458525092518, \"frac_infectivity_retained\": 0.0003038185776225012}, {\"HA variant\": \"K280N\", \"experiment\": \"2024-04-24 experiment\", \"DMS effect\": -0.3334, \"pH\": \"infectivity retained at pH 5.3\", \"MOI_at_pH\": 0.0001300084507323682, \"frac_infectivity_retained\": 0.00041310458210948206}, {\"HA variant\": \"K280N\", \"experiment\": \"2024-04-26 experiment\", \"DMS effect\": -0.3334, \"pH\": \"infectivity retained at pH 5.3\", \"MOI_at_pH\": 0.0017014466397575702, \"frac_infectivity_retained\": 0.0011748944640809628}, {\"HA variant\": \"N446E\", \"experiment\": \"2024-04-13 experiment\", \"DMS effect\": 1.863, \"pH\": \"infectivity retained at pH 5.3\", \"MOI_at_pH\": 0.1034734084762761, \"frac_infectivity_retained\": 0.05800757549423206}, {\"HA variant\": \"N446E\", \"experiment\": \"2024-04-24 experiment\", \"DMS effect\": 1.863, \"pH\": \"infectivity retained at pH 5.3\", \"MOI_at_pH\": 0.009444458827999689, \"frac_infectivity_retained\": 0.04589257669812296}, {\"HA variant\": \"N446E\", \"experiment\": \"2024-04-26 experiment\", \"DMS effect\": 1.863, \"pH\": \"infectivity retained at pH 5.3\", \"MOI_at_pH\": 0.29975465368605014, \"frac_infectivity_retained\": 0.1782123187402614}, {\"HA variant\": \"R81G\", \"experiment\": \"2024-04-13 experiment\", \"DMS effect\": 1.144, \"pH\": \"infectivity retained at pH 5.3\", \"MOI_at_pH\": 0.006521216990265463, \"frac_infectivity_retained\": 0.020721303918577943}, {\"HA variant\": \"R81G\", \"experiment\": \"2024-04-24 experiment\", \"DMS effect\": 1.144, \"pH\": \"infectivity retained at pH 5.3\", \"MOI_at_pH\": 0.006118681008177177, \"frac_infectivity_retained\": 0.08809274316856935}, {\"HA variant\": \"R81G\", \"experiment\": \"2024-04-26 experiment\", \"DMS effect\": 1.144, \"pH\": \"infectivity retained at pH 5.3\", \"MOI_at_pH\": 0.0015011261262670914, \"frac_infectivity_retained\": 0.0035735035157824857}, {\"HA variant\": \"unmutated\", \"experiment\": \"2024-04-13 experiment\", \"DMS effect\": 0.0, \"pH\": \"infectivity retained at pH 5.3\", \"MOI_at_pH\": 0.0021022080918701985, \"frac_infectivity_retained\": 0.0016982402791349625}, {\"HA variant\": \"unmutated\", \"experiment\": \"2024-04-24 experiment\", \"DMS effect\": 0.0, \"pH\": \"infectivity retained at pH 5.3\", \"MOI_at_pH\": 0.0006101861256949643, \"frac_infectivity_retained\": 0.002244910017224186}, {\"HA variant\": \"unmutated\", \"experiment\": \"2024-04-26 experiment\", \"DMS effect\": 0.0, \"pH\": \"infectivity retained at pH 5.3\", \"MOI_at_pH\": 0.002904213147389827, \"frac_infectivity_retained\": 0.0025140727071490307}, {\"HA variant\": \"E31K\", \"experiment\": \"2024-04-13 experiment\", \"DMS effect\": 0.6975, \"pH\": \"infectivity retained at pH 5.5\", \"MOI_at_pH\": 0.10869941692334091, \"frac_infectivity_retained\": 0.045141973528296624}, {\"HA variant\": \"E31K\", \"experiment\": \"2024-04-24 experiment\", \"DMS effect\": 0.6975, \"pH\": \"infectivity retained at pH 5.5\", \"MOI_at_pH\": 0.03200679613508645, \"frac_infectivity_retained\": 0.10823555769925802}, {\"HA variant\": \"E31K\", \"experiment\": \"2024-04-26 experiment\", \"DMS effect\": 0.6975, \"pH\": \"infectivity retained at pH 5.5\", \"MOI_at_pH\": 0.2890162954649176, \"frac_infectivity_retained\": 0.16690654292739737}, {\"HA variant\": \"I406L\", \"experiment\": \"2024-04-13 experiment\", \"DMS effect\": 0.9385, \"pH\": \"infectivity retained at pH 5.5\", \"MOI_at_pH\": 0.8627499649461251, \"frac_infectivity_retained\": 0.3827987870201046}, {\"HA variant\": \"I406L\", \"experiment\": \"2024-04-24 experiment\", \"DMS effect\": 0.9385, \"pH\": \"infectivity retained at pH 5.5\", \"MOI_at_pH\": 0.11765804346823246, \"frac_infectivity_retained\": 0.6657232194537749}, {\"HA variant\": \"I406L\", \"experiment\": \"2024-04-26 experiment\", \"DMS effect\": 0.9385, \"pH\": \"infectivity retained at pH 5.5\", \"MOI_at_pH\": 1.3743657902546167, \"frac_infectivity_retained\": 0.5654852488685056}, {\"HA variant\": \"I80V\", \"experiment\": \"2024-04-13 experiment\", \"DMS effect\": 0.685, \"pH\": \"infectivity retained at pH 5.5\", \"MOI_at_pH\": 0.21195636192364545, \"frac_infectivity_retained\": 0.10662999127005195}, {\"HA variant\": \"I80V\", \"experiment\": \"2024-04-24 experiment\", \"DMS effect\": 0.685, \"pH\": \"infectivity retained at pH 5.5\", \"MOI_at_pH\": 0.017349638335112993, \"frac_infectivity_retained\": 0.05840464235382799}, {\"HA variant\": \"I80V\", \"experiment\": \"2024-04-26 experiment\", \"DMS effect\": 0.685, \"pH\": \"infectivity retained at pH 5.5\", \"MOI_at_pH\": 0.1427163022015952, \"frac_infectivity_retained\": 0.10715996425833411}, {\"HA variant\": \"K262I\", \"experiment\": \"2024-04-13 experiment\", \"DMS effect\": 2.41, \"pH\": \"infectivity retained at pH 5.5\", \"MOI_at_pH\": 0.5208759596194922, \"frac_infectivity_retained\": 0.9266294778522585}, {\"HA variant\": \"K262I\", \"experiment\": \"2024-04-24 experiment\", \"DMS effect\": 2.41, \"pH\": \"infectivity retained at pH 5.5\", \"MOI_at_pH\": 0.3396773675701613, \"frac_infectivity_retained\": 0.848180761924854}, {\"HA variant\": \"K262I\", \"experiment\": \"2024-04-26 experiment\", \"DMS effect\": 2.41, \"pH\": \"infectivity retained at pH 5.5\", \"MOI_at_pH\": 0.5464528014091419, \"frac_infectivity_retained\": 1.1786550634710615}, {\"HA variant\": \"K280N\", \"experiment\": \"2024-04-13 experiment\", \"DMS effect\": -0.3334, \"pH\": \"infectivity retained at pH 5.5\", \"MOI_at_pH\": 0.009848336054814406, \"frac_infectivity_retained\": 0.005539443537744942}, {\"HA variant\": \"K280N\", \"experiment\": \"2024-04-24 experiment\", \"DMS effect\": -0.3334, \"pH\": \"infectivity retained at pH 5.5\", \"MOI_at_pH\": 0.0026033858701149278, \"frac_infectivity_retained\": 0.008272313267985106}, {\"HA variant\": \"K280N\", \"experiment\": \"2024-04-26 experiment\", \"DMS effect\": -0.3334, \"pH\": \"infectivity retained at pH 5.5\", \"MOI_at_pH\": 0.04468360762664002, \"frac_infectivity_retained\": 0.030855227551059416}, {\"HA variant\": \"N446E\", \"experiment\": \"2024-04-13 experiment\", \"DMS effect\": 1.863, \"pH\": \"infectivity retained at pH 5.5\", \"MOI_at_pH\": 0.23067181773500128, \"frac_infectivity_retained\": 0.12931547417540315}, {\"HA variant\": \"N446E\", \"experiment\": \"2024-04-24 experiment\", \"DMS effect\": 1.863, \"pH\": \"infectivity retained at pH 5.5\", \"MOI_at_pH\": 0.01877515532633398, \"frac_infectivity_retained\": 0.09123235873277104}, {\"HA variant\": \"N446E\", \"experiment\": \"2024-04-26 experiment\", \"DMS effect\": 1.863, \"pH\": \"infectivity retained at pH 5.5\", \"MOI_at_pH\": 0.4992264879226388, \"frac_infectivity_retained\": 0.296803765663742}, {\"HA variant\": \"R81G\", \"experiment\": \"2024-04-13 experiment\", \"DMS effect\": 1.144, \"pH\": \"infectivity retained at pH 5.5\", \"MOI_at_pH\": 0.016434306463424773, \"frac_infectivity_retained\": 0.05222035387382685}, {\"HA variant\": \"R81G\", \"experiment\": \"2024-04-24 experiment\", \"DMS effect\": 1.144, \"pH\": \"infectivity retained at pH 5.5\", \"MOI_at_pH\": 0.0116678048676821, \"frac_infectivity_retained\": 0.1679853772693913}, {\"HA variant\": \"R81G\", \"experiment\": \"2024-04-26 experiment\", \"DMS effect\": 1.144, \"pH\": \"infectivity retained at pH 5.5\", \"MOI_at_pH\": 0.07526248450054686, \"frac_infectivity_retained\": 0.17916599295892566}, {\"HA variant\": \"unmutated\", \"experiment\": \"2024-04-13 experiment\", \"DMS effect\": 0.0, \"pH\": \"infectivity retained at pH 5.5\", \"MOI_at_pH\": 0.030974804299430524, \"frac_infectivity_retained\": 0.025022575311666007}, {\"HA variant\": \"unmutated\", \"experiment\": \"2024-04-24 experiment\", \"DMS effect\": 0.0, \"pH\": \"infectivity retained at pH 5.5\", \"MOI_at_pH\": 0.006823225348125537, \"frac_infectivity_retained\": 0.025103040349105425}, {\"HA variant\": \"unmutated\", \"experiment\": \"2024-04-26 experiment\", \"DMS effect\": 0.0, \"pH\": \"infectivity retained at pH 5.5\", \"MOI_at_pH\": 0.02142794741362045, \"frac_infectivity_retained\": 0.01854940220597272}]}}, {\"mode\": \"vega-lite\"});\n",
       "</script>"
      ],
      "text/plain": [
       "alt.FacetChart(...)"
      ]
     },
     "execution_count": 6,
     "metadata": {},
     "output_type": "execute_result"
    }
   ],
   "source": [
    "titer_base = (\n",
    "    alt.Chart(titer_data)\n",
    "    .encode(\n",
    "        alt.X(\"DMS effect\", scale=alt.Scale(nice=False, padding=14), title=\"stability effect in DMS\"),\n",
    "        alt.Y(\"frac_infectivity_retained\", scale=alt.Scale(type=\"log\", nice=False, padding=14), title=None),\n",
    "        alt.Color(\"HA variant\", sort=alt.SortField(\"DMS effect\"), legend=None, scale=alt.Scale(range=color_range)),\n",
    "    )\n",
    ")\n",
    "\n",
    "titer_points = titer_base.mark_point(filled=True, size=70, opacity=1)\n",
    "\n",
    "titer_text = titer_base.encode(text=\"HA variant\").mark_text(\n",
    "    size=9, dy=8, dx=2\n",
    ")\n",
    "\n",
    "titer_r = (\n",
    "    titer_base\n",
    "    .transform_regression(\"DMS effect\", \"frac_infectivity_retained\", params=True)\n",
    "    .transform_calculate(\n",
    "        r=alt.expr.if_(\n",
    "            alt.datum[\"coef\"][1] >= 0,\n",
    "            alt.expr.sqrt(alt.datum[\"rSquared\"]),\n",
    "            -alt.expr.sqrt(alt.datum[\"rSquared\"]),\n",
    "        ),\n",
    "        label='\"r = \" + format(datum.r, \".2f\")',\n",
    "    )\n",
    "    .mark_text(align=\"left\", fontSize=12, opacity=1)\n",
    "    .encode(x=alt.value(5), y=alt.value(10), text=alt.Text(\"label:N\"), color=alt.value(\"black\"))\n",
    ")\n",
    "\n",
    "titer_chart = (\n",
    "    (titer_points + titer_text + titer_r)\n",
    "    .properties(width=165, height=165)\n",
    "    .facet(\n",
    "        column=alt.Column(\"experiment\", title=None,header=alt.Header(labelFontStyle=\"bold\", labelPadding=3, labelFontSize=11)),\n",
    "        row=alt.Row(\"pH\", title=None, header=alt.Header(labelFontStyle=\"bold\", labelPadding=1, labelFontSize=11)),\n",
    "        spacing=5,\n",
    "    )\n",
    "    .resolve_scale(y=\"independent\")\n",
    "    .configure_axis(grid=False)\n",
    ")\n",
    "\n",
    "titer_chart.save(\"titer_chart.html\")\n",
    "\n",
    "titer_chart"
   ]
  },
  {
   "cell_type": "code",
   "execution_count": null,
   "id": "d0945513-0e60-41c7-9171-dbe6e2ca9cf3",
   "metadata": {},
   "outputs": [],
   "source": []
  }
 ],
 "metadata": {
  "kernelspec": {
   "display_name": "Python 3 (ipykernel)",
   "language": "python",
   "name": "python3"
  },
  "language_info": {
   "codemirror_mode": {
    "name": "ipython",
    "version": 3
   },
   "file_extension": ".py",
   "mimetype": "text/x-python",
   "name": "python",
   "nbconvert_exporter": "python",
   "pygments_lexer": "ipython3",
   "version": "3.11.3"
  }
 },
 "nbformat": 4,
 "nbformat_minor": 5
}
