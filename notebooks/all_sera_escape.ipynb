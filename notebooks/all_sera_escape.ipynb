{
 "cells": [
  {
   "cell_type": "markdown",
   "id": "a616ff59-8358-45c1-8c35-87fbae29d675",
   "metadata": {},
   "source": [
    "# Summarize escape across all sera"
   ]
  },
  {
   "cell_type": "code",
   "execution_count": 1,
   "id": "42e0d6c9-4481-478f-bd7b-5f0974b1169e",
   "metadata": {
    "execution": {
     "iopub.execute_input": "2023-07-30T17:31:51.467584Z",
     "iopub.status.busy": "2023-07-30T17:31:51.467152Z",
     "iopub.status.idle": "2023-07-30T17:31:52.593750Z",
     "shell.execute_reply": "2023-07-30T17:31:52.592352Z",
     "shell.execute_reply.started": "2023-07-30T17:31:51.467546Z"
    }
   },
   "outputs": [],
   "source": [
    "import altair as alt\n",
    "\n",
    "import pandas as pd"
   ]
  },
  {
   "cell_type": "markdown",
   "id": "49f7c160-65ac-4023-bb51-d21ffc56a94c",
   "metadata": {},
   "source": [
    "The next cell is tagged as `parameters` for `papermill` parameterization:"
   ]
  },
  {
   "cell_type": "code",
   "execution_count": null,
   "id": "48308e90-bd88-4e79-8024-b3a86a5c0224",
   "metadata": {
    "editable": true,
    "slideshow": {
     "slide_type": ""
    },
    "tags": [
     "parameters"
    ]
   },
   "outputs": [],
   "source": [
    "site_numbering_map_csv = None\n",
    "func_effects_csv = None\n",
    "sera = None"
   ]
  }
 ],
 "metadata": {
  "kernelspec": {
   "display_name": "Python 3 (ipykernel)",
   "language": "python",
   "name": "python3"
  },
  "language_info": {
   "codemirror_mode": {
    "name": "ipython",
    "version": 3
   },
   "file_extension": ".py",
   "mimetype": "text/x-python",
   "name": "python",
   "nbconvert_exporter": "python",
   "pygments_lexer": "ipython3",
   "version": "3.11.4"
  }
 },
 "nbformat": 4,
 "nbformat_minor": 5
}
